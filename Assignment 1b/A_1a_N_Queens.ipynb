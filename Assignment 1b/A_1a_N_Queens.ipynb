{
 "cells": [
  {
   "cell_type": "markdown",
   "id": "f9d7c6ac",
   "metadata": {
    "id": "f9d7c6ac"
   },
   "source": [
    "# Evolutionary Computing - N-Queens Problem\n",
    "\n",
    "\n",
    "**Goal**: Implement an Evolutionary Algorithm to solve for the N-Queens problem. Could be defined as minimization of maximization.\n",
    "\n",
    "This assignment requires implementation of the main components of an evolutionary algorithm (i.e. *crossover*, *mutation*, *parent selection*, etc), and construction of your algorithm to solve the given problem. Try to make your EA as good performing as possible (solving also the bigger chess boards).\n",
    "\n",
    "Please answer the `Questions` and implement coding `Tasks` by filling **PLEASE FILL IN** sections. *Documentation* of your code is also important. You can find the grading scheme in implementation cells.\n",
    "\n",
    "  * Plagiarism is automatically checked and set to **0 points**\n",
    "\n",
    "  * It is allowed to learn from external resources but copying is not allowed. If you use any external resource, please cite them in the comments (e.g. `# source: https://...../` (see `fitness_function`))\n",
    "\n",
    "POINTS ARE ONLY FOR RELATIVE FEEDBACK, NOT AN ACTUAL GRADE."
   ]
  },
  {
   "cell_type": "markdown",
   "id": "2e54f37c",
   "metadata": {
    "id": "2e54f37c"
   },
   "source": [
    "**Setup**"
   ]
  },
  {
   "cell_type": "markdown",
   "id": "640302f6",
   "metadata": {
    "id": "640302f6"
   },
   "source": [
    "**Install Prerequisites**"
   ]
  },
  {
   "cell_type": "code",
   "execution_count": 190,
   "id": "916ea9f3",
   "metadata": {
    "id": "916ea9f3"
   },
   "outputs": [
    {
     "name": "stdout",
     "output_type": "stream",
     "text": [
      "Requirement already satisfied: numpy in c:\\python\\python310\\lib\\site-packages (2.2.5)\n",
      "Requirement already satisfied: matplotlib in c:\\python\\python310\\lib\\site-packages (3.10.3)\n",
      "Requirement already satisfied: scipy in c:\\python\\python310\\lib\\site-packages (1.15.3)\n",
      "Requirement already satisfied: contourpy>=1.0.1 in c:\\python\\python310\\lib\\site-packages (from matplotlib) (1.3.2)\n",
      "Requirement already satisfied: cycler>=0.10 in c:\\python\\python310\\lib\\site-packages (from matplotlib) (0.12.1)\n",
      "Requirement already satisfied: fonttools>=4.22.0 in c:\\python\\python310\\lib\\site-packages (from matplotlib) (4.58.0)\n",
      "Requirement already satisfied: kiwisolver>=1.3.1 in c:\\python\\python310\\lib\\site-packages (from matplotlib) (1.4.8)\n",
      "Requirement already satisfied: packaging>=20.0 in c:\\python\\python310\\lib\\site-packages (from matplotlib) (25.0)\n",
      "Requirement already satisfied: pillow>=8 in c:\\python\\python310\\lib\\site-packages (from matplotlib) (11.2.1)\n",
      "Requirement already satisfied: pyparsing>=2.3.1 in c:\\python\\python310\\lib\\site-packages (from matplotlib) (3.2.3)\n",
      "Requirement already satisfied: python-dateutil>=2.7 in c:\\python\\python310\\lib\\site-packages (from matplotlib) (2.9.0.post0)\n",
      "Requirement already satisfied: six>=1.5 in c:\\python\\python310\\lib\\site-packages (from python-dateutil>=2.7->matplotlib) (1.17.0)\n",
      "Note: you may need to restart the kernel to use updated packages.\n"
     ]
    },
    {
     "name": "stderr",
     "output_type": "stream",
     "text": [
      "\n",
      "[notice] A new release of pip is available: 25.1.1 -> 25.2\n",
      "[notice] To update, run: python.exe -m pip install --upgrade pip\n"
     ]
    }
   ],
   "source": [
    "# Run this cell to install the required libraries\n",
    "%pip install numpy matplotlib scipy"
   ]
  },
  {
   "cell_type": "markdown",
   "id": "a1dc76f9",
   "metadata": {
    "id": "a1dc76f9"
   },
   "source": [
    "**Imports**"
   ]
  },
  {
   "cell_type": "code",
   "execution_count": 191,
   "id": "cb309f93",
   "metadata": {
    "id": "cb309f93"
   },
   "outputs": [],
   "source": [
    "# Necessary libraries\n",
    "import matplotlib.pyplot as plt\n",
    "import numpy as np\n",
    "from scipy.stats import ranksums\n",
    "\n",
    "# Set seed\n",
    "np.random.seed(42)"
   ]
  },
  {
   "cell_type": "markdown",
   "id": "1713f8d4",
   "metadata": {
    "id": "1713f8d4"
   },
   "source": [
    "**Plotting**"
   ]
  },
  {
   "cell_type": "code",
   "execution_count": 192,
   "id": "9e702a59",
   "metadata": {
    "id": "9e702a59"
   },
   "outputs": [
    {
     "name": "stdout",
     "output_type": "stream",
     "text": [
      "Requirement already satisfied: PyQt5 in c:\\python\\python310\\lib\\site-packages (5.15.11)\n",
      "Requirement already satisfied: PyQt5-sip<13,>=12.15 in c:\\python\\python310\\lib\\site-packages (from PyQt5) (12.17.0)\n",
      "Requirement already satisfied: PyQt5-Qt5<5.16.0,>=5.15.2 in c:\\python\\python310\\lib\\site-packages (from PyQt5) (5.15.2)\n",
      "Note: you may need to restart the kernel to use updated packages.\n"
     ]
    },
    {
     "name": "stderr",
     "output_type": "stream",
     "text": [
      "\n",
      "[notice] A new release of pip is available: 25.1.1 -> 25.2\n",
      "[notice] To update, run: python.exe -m pip install --upgrade pip\n"
     ]
    }
   ],
   "source": [
    "# Enables inline matplotib graphs\n",
    "# %matplotlib inline\n",
    "%pip install PyQt5\n",
    "# Comment the line above and uncomment the lines below to have interactive plots\n",
    "# WARN: may cause dependency issues\n",
    "#%matplotlib qt5\n",
    "#%pip install PyQt5\n",
    "#plt.ion()"
   ]
  },
  {
   "cell_type": "code",
   "execution_count": 193,
   "id": "fMd3wJSnI4dp",
   "metadata": {
    "id": "fMd3wJSnI4dp"
   },
   "outputs": [],
   "source": [
    "def generate_subplot_function(\n",
    "    avgs_experiment_1,\n",
    "    stds_experiment_1,\n",
    "    labels,\n",
    "    avgs_experiment_2,\n",
    "    stds_experiment_2,\n",
    "    n_columns,\n",
    "    n_queens,\n",
    "):\n",
    "    \"\"\"This helper function generates subplots for the experiments.\"\"\"\n",
    "    fig, axes = plt.subplots(nrows=1, ncols=n_columns, figsize=(18, 6))\n",
    "\n",
    "    for i in range(len(avgs_experiment_1)):\n",
    "        if avgs_experiment_2 is not None:\n",
    "            # Plot data for subplot 1\n",
    "            axes[i].plot(avgs_experiment_2[i], label=\"Experiment 2\", color=\"green\")\n",
    "            axes[i].fill_between(\n",
    "                np.arange(len(avgs_experiment_2[i])),\n",
    "                avgs_experiment_2[i] - stds_experiment_2[i],\n",
    "                avgs_experiment_2[i] + stds_experiment_2[i],\n",
    "                alpha=0.2,\n",
    "                color=\"green\",\n",
    "            )\n",
    "            axes[i].set_ylim(bottom=0)\n",
    "\n",
    "            if n_queens:\n",
    "                axes[i].set_ylim(top=n_queens[i])\n",
    "\n",
    "        axes[i].plot(avgs_experiment_1[i], label=\"Experiment 1\", color=\"blue\")\n",
    "        axes[i].fill_between(\n",
    "            np.arange(len(avgs_experiment_1[i])),\n",
    "            avgs_experiment_1[i] - stds_experiment_1[i],\n",
    "            avgs_experiment_1[i] + stds_experiment_1[i],\n",
    "            alpha=0.2,\n",
    "            color=\"blue\",\n",
    "        )\n",
    "        axes[i].set_title(labels[i])\n",
    "        axes[i].set_ylim(bottom=0)\n",
    "        if n_queens:\n",
    "            axes[i].set_ylim(top=n_queens[i])\n",
    "\n",
    "    # Set common labels and title\n",
    "    for ax in axes:\n",
    "        ax.set_xlabel(\"Generations\")\n",
    "        ax.set_ylabel(\"Average Best Fitness\")\n",
    "        ax.legend()\n",
    "\n",
    "    plt.tight_layout()"
   ]
  },
  {
   "cell_type": "markdown",
   "id": "6a13a879",
   "metadata": {
    "id": "6a13a879"
   },
   "source": [
    "---"
   ]
  },
  {
   "cell_type": "markdown",
   "id": "cf0d4d7e",
   "metadata": {},
   "source": [
    "## Discrete Optimization - The N-Queens Problem (5 points total)\n",
    "\n",
    "Implement an Evolutionary Algorithm for the **n-queens problem** - finding a placement of N queens on an N by N chess board, in which no queens are attacking each other.\n",
    "\n",
    "Below is a visualization of a solution for the n-queens problem when n = 4. Observe that none of the queens are attacking each other."
   ]
  },
  {
   "cell_type": "markdown",
   "id": "024fe6aa",
   "metadata": {
    "id": "024fe6aa"
   },
   "source": [
    "![image.png](data:image/png;base64,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)\n"
   ]
  },
  {
   "cell_type": "markdown",
   "id": "9314a39a",
   "metadata": {
    "id": "9314a39a"
   },
   "source": [
    "We would like to implement an EA that can find a solution for any given N by N board, by placing N queens where none of them attack each other.\n",
    "It is usually better to start simple and generalize your implementation. So, let's start with the case when **N = 4**."
   ]
  },
  {
   "cell_type": "markdown",
   "id": "6293bcf9",
   "metadata": {
    "id": "6293bcf9"
   },
   "source": [
    "### **Question 1 (0-0.3 pt):**\n",
    "* How do you represent a solution (a 4 queen placement on a 4x4 chess board)? In particular, specify the length of your genotype representation, what each gene (dimension) represents, and what values they can get.\n",
    "\n",
    "**Answer:** We can represent a genotype as an array of size four, where each cell in the array represents a row of the chess board. A queen on the board can then be represented by a number between 0 and 3 within a cell, representing the column that the queen is placed in on the row that corresponds to the cell (starting the count from 0). This automatically eliminates row conflicts, as the solution places exactly one queen per row. Second, if we do not allow for duplicate numbers in the cells, we also immediately eliminate column conflicts, only leaving diagonal conflicts left to be checked or improved upon. "
   ]
  },
  {
   "cell_type": "markdown",
   "id": "c4d2b80e",
   "metadata": {
    "id": "c4d2b80e"
   },
   "source": [
    "### **Question 2 (0-0.2 pt):**\n",
    "* Please write down an example representation and discuss what it means.\n",
    "\n",
    "**Answer:** For example, the solution above can be represented as (2,0,3,1). In this solution, the first row has the queen in the third column,  the second row has the queen in the first column, the third row has the queen in the fourth column, and the fourth has the queen in the second column. Since the solution presented above does not have any row and column conflicts, the phenotype above can be represented by the genotype below.\n"
   ]
  },
  {
   "cell_type": "markdown",
   "id": "13538038",
   "metadata": {
    "id": "13538038"
   },
   "source": [
    "### **Question 3 (0-0.2 pt):** \n",
    "* How many possible solutions can be generated in your representation?\n",
    "\n",
    "**Answer:** In the representation, since we do not allow for duplicate numbers in the array, we have permutations of the numbers 1,2,3,4. This indicates we have $4!=24$ posible solutions, which are of course not all valid solution for the problem, but can nonetheless be generated using this notation. In general, we have $n!$ possible solutions for a board of size $n$"
   ]
  },
  {
   "cell_type": "markdown",
   "id": "d1a9d7ed",
   "metadata": {
    "id": "d1a9d7ed"
   },
   "source": [
    "---"
   ]
  },
  {
   "cell_type": "markdown",
   "id": "8a77a902",
   "metadata": {},
   "source": [
    "### **Task 1 (0-0.20-0.40-0.80):** \n",
    "Implementation of solution encoding, visualization and evaluation functions."
   ]
  },
  {
   "cell_type": "code",
   "execution_count": 194,
   "id": "cd08eea1",
   "metadata": {
    "id": "cd08eea1"
   },
   "outputs": [],
   "source": [
    "################################################################\n",
    "\n",
    "\n",
    "# PLEASE FILL IN - how do you represent your solution? \n",
    "# The solution is represented as the purmation notation, \n",
    "#in an np.array to allow for efficient mutation and crossover operations\n",
    "example_solution =np.array([2,0,3,1], dtype= int)\n",
    "\n",
    "\n",
    "################################################################"
   ]
  },
  {
   "cell_type": "markdown",
   "id": "eE_dmWg6M-0t",
   "metadata": {
    "id": "eE_dmWg6M-0t"
   },
   "source": [
    "Write a function below that can visualize your solution. For instance, the output may look like below, a matrix representing the 4x4 chess board where each Q indicates a queen placement and dots are empty cells. <br>\n",
    "<br>\n",
    "![image.png](data:image/png;base64,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)\n"
   ]
  },
  {
   "cell_type": "code",
   "execution_count": 195,
   "id": "fd5ded27",
   "metadata": {
    "id": "fd5ded27"
   },
   "outputs": [],
   "source": [
    "def visualize_solution(solution):\n",
    "    \"\"\"Visualize the placement of queens on the chessboard.\"\"\"\n",
    "    \n",
    "    ################################################################\n",
    "    \n",
    "    #Get the number of rows and columns n and make a grid of dots\n",
    "    n =len(solution)\n",
    "    visual = np.full((n, n), \".\", dtype=str)\n",
    "    \n",
    "    # For each row fill in a Q to show the column the queen is placed in\n",
    "    for i,column in enumerate( solution):\n",
    "        visual[i,column] = \"Q\"\n",
    "    \n",
    "    # For each row in the array, print the row connected by spaces in between (print automatically handles newline)\n",
    "    for row in visual:\n",
    "        print(\" \".join(row))\n",
    "\n",
    "    ################################################################"
   ]
  },
  {
   "cell_type": "code",
   "execution_count": 196,
   "id": "828d64c6",
   "metadata": {},
   "outputs": [
    {
     "name": "stdout",
     "output_type": "stream",
     "text": [
      ". . Q .\n",
      "Q . . .\n",
      ". . . Q\n",
      ". Q . .\n"
     ]
    }
   ],
   "source": [
    "visualize_solution(example_solution)"
   ]
  },
  {
   "cell_type": "markdown",
   "id": "9692a75d",
   "metadata": {
    "id": "9692a75d"
   },
   "source": [
    "Write the evaluation function to assess how good your solution is."
   ]
  },
  {
   "cell_type": "code",
   "execution_count": 197,
   "id": "ee8ddfb1",
   "metadata": {
    "id": "ee8ddfb1"
   },
   "outputs": [],
   "source": [
    "def evaluate_solution_n_queens(solution):\n",
    "    \"\"\"Calculate the fitness of an solution.\"\"\"\n",
    "    ################################################################\n",
    "    #Set initial fitness to the maximum number of queens, if no conflicts arise, this is the fitness.\n",
    "    fitness = len(solution)\n",
    "    \n",
    "    # For each row (and queen) check if there exists a conflict with another queen that has not been checked yet, \n",
    "    # if so, reduce the fitness by one. \n",
    "    # The fitness thus becomes the amount of queens that need to be removed for a non-conflict solution\n",
    "    \n",
    "    for i in range(len(solution)):\n",
    "        conflict = False\n",
    "        for j in range(i+1, len(solution)):\n",
    "            # If the difference between the column index of 2 queens is the same as the difference in row index, \n",
    "            # then the slope is 1 (or -1 thus the absolute value), such that they must lie on the same diagonal \n",
    "            #which by definition has slope 1\n",
    "            if abs(solution[i]- solution[j]) == abs(i-j):\n",
    "                conflict =True\n",
    "        if conflict:        \n",
    "            fitness -=1\n",
    "\n",
    "    ################################################################\n",
    "\n",
    "    return fitness"
   ]
  },
  {
   "cell_type": "code",
   "execution_count": 198,
   "id": "29e1b2d8",
   "metadata": {},
   "outputs": [
    {
     "data": {
      "text/plain": [
       "4"
      ]
     },
     "execution_count": 198,
     "metadata": {},
     "output_type": "execute_result"
    }
   ],
   "source": [
    "evaluate_solution_n_queens([2,0,3,1])"
   ]
  },
  {
   "cell_type": "markdown",
   "id": "a108b368",
   "metadata": {
    "id": "a108b368"
   },
   "source": [
    "Try your implementations to see if your solution encoding matches to visualization and whether the fitness is computed correctly."
   ]
  },
  {
   "cell_type": "code",
   "execution_count": 199,
   "id": "37e2f29f",
   "metadata": {
    "id": "37e2f29f"
   },
   "outputs": [
    {
     "name": "stdout",
     "output_type": "stream",
     "text": [
      "Genotype (solution representation): [2 0 3 1]\n",
      "Phenotype (solution visualization):\n",
      ". . Q .\n",
      "Q . . .\n",
      ". . . Q\n",
      ". Q . .\n",
      "Solution fitness 4\n"
     ]
    }
   ],
   "source": [
    "#################################\n",
    "# Grading\n",
    "# 0 pts: No attempt, representation discussed does not match with the implementation and visualization, fitness is not correct.\n",
    "# 0.20 : Solution representation matches with visualization, fitness computation is not correct, no explanation in the code.\n",
    "# 0.50 : Solution representation matches with visualization, fitness computation is correct, no explanation in the code.\n",
    "# 0.80 : Solution representation matches with visualization, fitness computation is correct, the implementation explained well.\n",
    "################################################################\n",
    "\n",
    "\n",
    "###################### DO NOT CHANGE #########################\n",
    "print(\"Genotype (solution representation):\", example_solution)\n",
    "print(\"Phenotype (solution visualization):\")\n",
    "visualize_solution(example_solution)\n",
    "print(\"Solution fitness\", evaluate_solution_n_queens(example_solution))\n",
    "###################### DO NOT CHANGE #########################"
   ]
  },
  {
   "cell_type": "markdown",
   "id": "096ded4b",
   "metadata": {
    "id": "096ded4b"
   },
   "source": [
    "---\n"
   ]
  },
  {
   "cell_type": "markdown",
   "id": "7fe89599",
   "metadata": {},
   "source": [
    "\n",
    "### **Task 2 (0-0.4-0.8-1.2-1.6 pt):** \n",
    "Write an evolutionary algorithm that can initialize a population of solutions and finds N queen placement to NxN board optimizing the number of attacks (could be minimization or maximization based on your evaluation function of the solutions)."
   ]
  },
  {
   "cell_type": "code",
   "execution_count": 200,
   "id": "9f1ab122",
   "metadata": {
    "id": "9f1ab122"
   },
   "outputs": [],
   "source": [
    "#################################\n",
    "# Grading\n",
    "# 0 pts if the code does not work, code works but it is fundamentally incorrect\n",
    "# 0.4 pts if the code works but some functions are incorrect and it is badly explained\n",
    "# 0.8 pts if the code works but some functions are incorrect but it is explained well\n",
    "# 1.2 pts if the code works very well aligned with the task without any mistakes, but it is badly explained\n",
    "# 1.6 pts if the code works very well aligned with the task without any mistakes, and it is well explained\n",
    "################################################################\n",
    "\n",
    "\n",
    "def initialization_n_queens(population_size, num_of_dims):\n",
    "    \"\"\"Generate a population of solutions.\"\"\"\n",
    "    ################################################################\n",
    "    #Initialize population by an empty array\n",
    "    x = np.zeros((population_size, num_of_dims), dtype = int)\n",
    "    \n",
    "    # Fill it with random permutations\n",
    "    for i in range(population_size):\n",
    "        x[i] =  np.random.permutation(num_of_dims)\n",
    "    ################################################################\n",
    "\n",
    "    return x\n",
    "\n",
    "\n",
    "def evaluation_n_queens(x):\n",
    "    \"\"\"Evaluate the whole population and return the fitness of each.\"\"\"\n",
    "    return [evaluate_solution_n_queens(solution) for solution in x]\n",
    "\n",
    "\n",
    "def crossover_n_queens(x_parents, p_crossover):\n",
    "    \"\"\"Perform crossover to create offsprings.\"\"\"\n",
    "\n",
    "    ################################################################\n",
    "    # Make an empty array of the population size to create n new children (so one child per potential parent)\n",
    "    offspring = np.zeros(x_parents.shape, dtype = int)\n",
    "\n",
    "    for i in range(len(offspring)//2):\n",
    "        # Among the selected parents (see parent_selection_n_queens), pick 2 at random for 2 children\n",
    "        parent_indices = np.random.choice(len(x_parents), size =2, replace = False)\n",
    "        parent_a, parent_b = x_parents[parent_indices]\n",
    "        n = len(parent_a)\n",
    "        \n",
    "        # Check if they do recombination, else just return the two children as the parents, simply duplicating them\n",
    "        if np.random.choice([True, False], p =[p_crossover, 1-p_crossover]):\n",
    "            # Recombine using the slice and insert method from the slides\n",
    "            parent_slice = np.random.randint(1, n) \n",
    "            \n",
    "            # Use the slice to form the first parts of the 2 children\n",
    "            offspring[i][:parent_slice] = parent_a[:parent_slice]\n",
    "            offspring[i + len(offspring)//2][:parent_slice] = parent_b[:parent_slice]\n",
    "            \n",
    "            # Move the part before the slice to the back, \n",
    "            parent_a_reordered = np.concatenate([parent_a[parent_slice:], parent_a[:parent_slice]])\n",
    "            parent_b_reordered = np.concatenate([parent_b[parent_slice:], parent_b[:parent_slice]])\n",
    "            \n",
    "            # filter out the dupllicate numbers\n",
    "            fill_i = [x for x in parent_b_reordered  if x  not in parent_a[:parent_slice] ]\n",
    "            fill_2i = [x for x in parent_a_reordered if x not in parent_b[:parent_slice]]\n",
    "            \n",
    "            # Add filtered second part\n",
    "            offspring[i][parent_slice:] = fill_i\n",
    "            offspring[i + len(offspring)//2][parent_slice:] = fill_2i\n",
    "                \n",
    "        else:\n",
    "            offspring[i] = parent_a\n",
    "            offspring[i + len(offspring)//2] = parent_b\n",
    "    ################################################################\n",
    "    return offspring\n",
    "\n",
    "\n",
    "def mutation_n_queens(x, mutation_rate):\n",
    "    \"\"\"Apply mutation to an individual.\"\"\"\n",
    "\n",
    "    ################################################################\n",
    "    # Copy the generation, to not overwrite it\n",
    "    x_mutated = x.copy()\n",
    "    \n",
    "    # For each solution check if they get mutated, and mutate if true\n",
    "    for mutate_solution in x_mutated:\n",
    "        if np.random.choice([True, False], p =[mutation_rate, 1-mutation_rate]):\n",
    "            # Select 2 indices to swap\n",
    "            index_1, index_2  = np.random.choice(len(mutate_solution), size=2, replace = False)\n",
    "            \n",
    "            # Swap indices\n",
    "            mutate_solution[index_1], mutate_solution[index_2] = mutate_solution[index_2], mutate_solution[index_1] \n",
    "\n",
    "    x = x_mutated\n",
    "    ################################################################\n",
    "\n",
    "    return x\n",
    "\n",
    "\n",
    "def parent_selection_n_queens(x, f):\n",
    "    \"\"\"Select parents for the next generation. Returns a list of parents and a list of their fitness values.\"\"\"\n",
    "\n",
    "    ################################################################\n",
    "    \n",
    "    # Use Roulette wheel based parent selection \n",
    "    # (Works in the current implementation better than tournament selection also attempted)\n",
    "    parents = np.random.choice(len(x), size =len(x), replace = True, p= f/np.sum(f))\n",
    "    x_parents = x[parents]\n",
    "    f_parents = [f[p] for p in parents]\n",
    "    \n",
    "\n",
    "    ####################################\n",
    "    return x_parents, f_parents\n",
    "\n",
    "\n",
    "def survivor_selection_n_queens(x, f, x_offspring, f_offspring):\n",
    "    \"\"\"Select the survivors, for the population of the next generation. Returns a list of survivors and their fitness values.\"\"\"\n",
    "\n",
    "    ################################################################\n",
    "    # Stack the parents and children\n",
    "    total_population = np.vstack((x, x_offspring))\n",
    "    total_fitness    = np.hstack((f, f_offspring))\n",
    "    \n",
    "    # Only keep the best to maintain stable population size\n",
    "    sorted_indices = np.argsort(total_fitness)[::-1][:len(x)]\n",
    "    x = total_population[sorted_indices]\n",
    "    f = total_fitness[sorted_indices]\n",
    "\n",
    "    ################################################################\n",
    "\n",
    "    return x, f\n",
    "\n",
    "\n",
    "def ea_n_queens(population_size, max_fit_evals, p_crossover, m_rate, num_of_dims):\n",
    "    # Calculate the maximum number of generations\n",
    "    max_generations = int(max_fit_evals / population_size)\n",
    "\n",
    "    # Initialize population and calculate fitness\n",
    "    x = initialization_n_queens(population_size, num_of_dims)\n",
    "    f = evaluation_n_queens(x)\n",
    "\n",
    "    # Get best individual and append to list\n",
    "    idx = np.argmax(f)\n",
    "    x0_best = x[idx]\n",
    "    f0_best = f[idx]\n",
    "    x_best = [x0_best]\n",
    "    f_best = [f0_best]\n",
    "\n",
    "    # Loop over the generations\n",
    "    for _ in range(max_generations - 1):\n",
    "        # Select population size parents\n",
    "        x_parents, f_parents = parent_selection_n_queens(x, f)\n",
    "        x_offspring = crossover_n_queens(x_parents, p_crossover)\n",
    "        x_offspring = mutation_n_queens(x_offspring, m_rate)\n",
    "        f_offspring = evaluation_n_queens(x_offspring)\n",
    "        x, f = survivor_selection_n_queens(\n",
    "            x_parents, f_parents, x_offspring, f_offspring\n",
    "        )\n",
    "\n",
    "        # Find the best individual in current generation and add to the list\n",
    "        idx = np.argmax(f)\n",
    "        xi_best = x[idx]\n",
    "        fi_best = f[idx]\n",
    "        if fi_best > f_best[-1]:\n",
    "            x_best.append(xi_best)\n",
    "            f_best.append(fi_best)\n",
    "        else:\n",
    "            x_best.append(x_best[-1])\n",
    "            f_best.append(f_best[-1])\n",
    "\n",
    "    return x_best, f_best"
   ]
  },
  {
   "cell_type": "markdown",
   "id": "834b52f6",
   "metadata": {
    "id": "834b52f6"
   },
   "source": [
    "---\n",
    "**Results:**\n",
    "\n",
    "Run the code below to run an EA for N=8, 16 and 32, and visualize the best solutions found.\n",
    "Note, it is not allowed to change the hyper parameters\n"
   ]
  },
  {
   "cell_type": "code",
   "execution_count": 201,
   "id": "7dcb4dbf-7268-4ae6-ab9b-9a83cf0e8ca1",
   "metadata": {},
   "outputs": [
    {
     "name": "stdout",
     "output_type": "stream",
     "text": [
      "Case when N=8:\n",
      "Best fitness: 8\n",
      "Best solution found:\n",
      ". . . . . Q . .\n",
      "Q . . . . . . .\n",
      ". . . . Q . . .\n",
      ". Q . . . . . .\n",
      ". . . . . . . Q\n",
      ". . Q . . . . .\n",
      ". . . . . . Q .\n",
      ". . . Q . . . .\n"
     ]
    }
   ],
   "source": [
    "print(\"Case when N=8:\")\n",
    "x_best, f_best = ea_n_queens(100, 10000, 0.5, 0.1, 8)\n",
    "\n",
    "\n",
    "print(\"Best fitness:\", f_best[-1])\n",
    "print(\"Best solution found:\")\n",
    "visualize_solution(x_best[-1])\n"
   ]
  },
  {
   "cell_type": "code",
   "execution_count": 202,
   "id": "36d92379",
   "metadata": {
    "id": "36d92379"
   },
   "outputs": [
    {
     "name": "stdout",
     "output_type": "stream",
     "text": [
      "Case when N=16:\n",
      "Best fitness: 15\n",
      "Best solution found:\n",
      ". . . . . . . Q . . . . . . . .\n",
      ". . . . . . . . . . . Q . . . .\n",
      ". . . Q . . . . . . . . . . . .\n",
      ". . . . . . . . Q . . . . . . .\n",
      ". . . . . . Q . . . . . . . . .\n",
      ". . . . . . . . . . . . . . Q .\n",
      "Q . . . . . . . . . . . . . . .\n",
      ". . . . . . . . . . Q . . . . .\n",
      ". Q . . . . . . . . . . . . . .\n",
      ". . . . . . . . . . . . . . . Q\n",
      ". . . . . Q . . . . . . . . . .\n",
      ". . . . . . . . . Q . . . . . .\n",
      ". . Q . . . . . . . . . . . . .\n",
      ". . . . . . . . . . . . . Q . .\n",
      ". . . . Q . . . . . . . . . . .\n",
      ". . . . . . . . . . . . Q . . .\n"
     ]
    }
   ],
   "source": [
    "print(\"Case when N=16:\")\n",
    "x_best, f_best = ea_n_queens(100, 10000, 0.5, 0.1, 16)\n",
    "\n",
    "\n",
    "print(\"Best fitness:\", f_best[-1])\n",
    "print(\"Best solution found:\")\n",
    "visualize_solution(x_best[-1])"
   ]
  },
  {
   "cell_type": "code",
   "execution_count": 203,
   "id": "c3bf67e0",
   "metadata": {
    "id": "c3bf67e0",
    "scrolled": false
   },
   "outputs": [
    {
     "name": "stdout",
     "output_type": "stream",
     "text": [
      "Case when N=32:\n",
      "Best fitness: 30\n",
      "Best solution found:\n",
      ". . . . . . . . . . . . Q . . . . . . . . . . . . . . . . . . .\n",
      ". . . . . . . . . . . . . . . . . Q . . . . . . . . . . . . . .\n",
      ". Q . . . . . . . . . . . . . . . . . . . . . . . . . . . . . .\n",
      ". . . . . . . . . . . . . . . . . . . . . . . . . . . . . Q . .\n",
      ". . . . . . . . . . . . . . . . . . Q . . . . . . . . . . . . .\n",
      ". . . . . Q . . . . . . . . . . . . . . . . . . . . . . . . . .\n",
      ". . . . . . . . . . . . . . . Q . . . . . . . . . . . . . . . .\n",
      ". . . . . . . . . . . . . . . . . . . . . . . . . . . . . . Q .\n",
      ". . . . . . . . . . . . . . . . . . . . . . . . . Q . . . . . .\n",
      ". . . . . . . . . . Q . . . . . . . . . . . . . . . . . . . . .\n",
      ". . . . . . . . . . . . . Q . . . . . . . . . . . . . . . . . .\n",
      ". . . . . . Q . . . . . . . . . . . . . . . . . . . . . . . . .\n",
      ". . . . . . . . . . . . . . . . . . . . . . . . . . . Q . . . .\n",
      ". . . . . . . . . . . . . . . . . . . . . Q . . . . . . . . . .\n",
      ". . . . . . . . . . . . . . . . . . . . . . Q . . . . . . . . .\n",
      ". . . . . . . . . . . Q . . . . . . . . . . . . . . . . . . . .\n",
      ". . . . . . . . Q . . . . . . . . . . . . . . . . . . . . . . .\n",
      ". . . . . . . . . . . . . . . . . . . . . . . . . . . . Q . . .\n",
      ". . . . . . . . . . . . . . . . . . . . Q . . . . . . . . . . .\n",
      "Q . . . . . . . . . . . . . . . . . . . . . . . . . . . . . . .\n",
      ". . . . . . . . . Q . . . . . . . . . . . . . . . . . . . . . .\n",
      ". . . . . . . . . . . . . . . . . . . . . . . . . . . . . . . Q\n",
      ". . . . . . . . . . . . . . . . . . . . . . . . . . Q . . . . .\n",
      ". . . . . . . . . . . . . . . . . . . . . . . . Q . . . . . . .\n",
      ". . . . Q . . . . . . . . . . . . . . . . . . . . . . . . . . .\n",
      ". . Q . . . . . . . . . . . . . . . . . . . . . . . . . . . . .\n",
      ". . . . . . . . . . . . . . . . . . . . . . . Q . . . . . . . .\n",
      ". . . Q . . . . . . . . . . . . . . . . . . . . . . . . . . . .\n",
      ". . . . . . . Q . . . . . . . . . . . . . . . . . . . . . . . .\n",
      ". . . . . . . . . . . . . . Q . . . . . . . . . . . . . . . . .\n",
      ". . . . . . . . . . . . . . . . Q . . . . . . . . . . . . . . .\n",
      ". . . . . . . . . . . . . . . . . . . Q . . . . . . . . . . . .\n"
     ]
    }
   ],
   "source": [
    "print(\"Case when N=32:\")\n",
    "x_best, f_best = ea_n_queens(100, 10000, 0.5, 0.1, 32)\n",
    "\n",
    "print(\"Best fitness:\", f_best[-1])\n",
    "print(\"Best solution found:\")\n",
    "visualize_solution(x_best[-1])"
   ]
  },
  {
   "cell_type": "markdown",
   "id": "9e3eaf63",
   "metadata": {
    "id": "9e3eaf63"
   },
   "source": [
    "---"
   ]
  },
  {
   "cell_type": "markdown",
   "id": "dbe0f03d",
   "metadata": {},
   "source": [
    "### Plotting the average performance of the algorithm\n",
    "Use the cells below to plot the results of your algorithm. The plots should show average and std of 10 runs of EA for n-queens problem for N=8, 16, 32."
   ]
  },
  {
   "cell_type": "code",
   "execution_count": 204,
   "id": "lM5uc2tsJMw4",
   "metadata": {
    "id": "lM5uc2tsJMw4"
   },
   "outputs": [],
   "source": [
    "def calculate_mean_std(f_best):\n",
    "    \"\"\"This is a helper function to calculate the mean and standard deviation of the best fitness values.\"\"\"\n",
    "    f_best = np.array(f_best)\n",
    "    avg = np.mean(f_best, axis=0)\n",
    "    std = np.std(f_best, axis=0)\n",
    "    return avg, std"
   ]
  },
  {
   "cell_type": "code",
   "execution_count": 205,
   "id": "2321602c",
   "metadata": {
    "id": "2321602c"
   },
   "outputs": [],
   "source": [
    "def run_experiment_n_queens(population_size, p_crossover, m_rate):\n",
    "\n",
    "    # These are the hyperparameters of your evolutionary algorithm. You are not allowed to change them.\n",
    "    runs = 10\n",
    "    max_fit_evals = 10000\n",
    "\n",
    "\n",
    "    fitness_8 = []\n",
    "    fitness_16 = []\n",
    "    fitness_32 = []\n",
    "\n",
    "\n",
    "\n",
    "    for run in range(runs):\n",
    "        print(\"Run: \", run)\n",
    "\n",
    "        _, f_best_8 = ea_n_queens(\n",
    "            population_size[0], max_fit_evals, p_crossover[0], m_rate[0], num_of_dims=8\n",
    "        )\n",
    "        _, f_best_16 = ea_n_queens(\n",
    "            population_size[1], max_fit_evals, p_crossover[1], m_rate[1], num_of_dims=16\n",
    "        )\n",
    "        _, f_best_32 = ea_n_queens(\n",
    "            population_size[2], max_fit_evals, p_crossover[2], m_rate[2], num_of_dims=32\n",
    "        )\n",
    "        fitness_8.append(f_best_8)\n",
    "        fitness_16.append(f_best_16)\n",
    "        fitness_32.append(f_best_32)\n",
    "\n",
    "    avg_8, std_8 = calculate_mean_std(fitness_8)\n",
    "    avg_16, std_16 = calculate_mean_std(fitness_16)\n",
    "    avg_32, std_32 = calculate_mean_std(fitness_32)\n",
    "\n",
    "    avgs = [avg_8, avg_16, avg_32]\n",
    "    stds = [std_8, std_16, std_32]\n",
    "    all_runs = [fitness_8, fitness_16, fitness_32]\n",
    "\n",
    "    return avgs, stds, all_runs"
   ]
  },
  {
   "cell_type": "code",
   "execution_count": 206,
   "id": "0db973a3",
   "metadata": {
    "id": "0db973a3"
   },
   "outputs": [
    {
     "name": "stdout",
     "output_type": "stream",
     "text": [
      "Run:  0\n",
      "Run:  1\n",
      "Run:  2\n",
      "Run:  3\n",
      "Run:  4\n",
      "Run:  5\n",
      "Run:  6\n",
      "Run:  7\n",
      "Run:  8\n",
      "Run:  9\n"
     ]
    }
   ],
   "source": [
    "population_size = [100, 100, 100]  # not allowed to change\n",
    "p_crossover = [0.8, 0.8, 0.8]  # not allowed to change\n",
    "m_rate = [0.1, 0.1, 0.1]  # not allowed to change\n",
    "\n",
    "avgs_experiment_1, stds_experiment_1, all_runs_experiment_1 = run_experiment_n_queens(\n",
    "    population_size, p_crossover, m_rate\n",
    ")"
   ]
  },
  {
   "cell_type": "code",
   "execution_count": 207,
   "id": "CGBaWlNckqLt",
   "metadata": {
    "id": "CGBaWlNckqLt"
   },
   "outputs": [
    {
     "name": "stdout",
     "output_type": "stream",
     "text": [
      "Best fitness found for N = 8:  8\n",
      "Best fitness found for N = 16:  16\n",
      "Best fitness found for N = 32:  30\n"
     ]
    }
   ],
   "source": [
    "#check for the best fitness found for each problem\n",
    "\n",
    "f_8, f_16, f_32 = all_runs_experiment_1\n",
    "\n",
    "print(\"Best fitness found for N = 8: \", max(max(f_8)))\n",
    "print(\"Best fitness found for N = 16: \", max(max(f_16)))\n",
    "print(\"Best fitness found for N = 32: \", max(max(f_32)))"
   ]
  },
  {
   "cell_type": "code",
   "execution_count": 208,
   "id": "4c6c8833",
   "metadata": {
    "id": "4c6c8833"
   },
   "outputs": [
    {
     "data": {
      "image/png": "[encoded data removed]",
      "text/plain": [
       "<Figure size 1800x600 with 3 Axes>"
      ]
     },
     "metadata": {},
     "output_type": "display_data"
    }
   ],
   "source": [
    "labels = [\"N = 8\", \"N = 16\", \"N = 32\"]\n",
    "\n",
    "generate_subplot_function(\n",
    "    avgs_experiment_1,\n",
    "    stds_experiment_1,\n",
    "    labels,\n",
    "    avgs_experiment_2=None,\n",
    "    stds_experiment_2=None,\n",
    "    n_columns=3,\n",
    "    n_queens=[8, 16, 32],\n",
    ")"
   ]
  },
  {
   "cell_type": "markdown",
   "id": "c19d4dd3",
   "metadata": {
    "id": "c19d4dd3"
   },
   "source": [
    "### **Question 4 (0-0.4 pt):** \n",
    "* Describe the average performance of the algorithm. What was the maximum average fitness found for each case? Do you see any differences between the problem cases?\n",
    "\n",
    "**Answer**: The maximum average found for the $n=8$ case was the maximum possible number of queens 8. However, for the $n=16$ and $n=32$ case, this maximum average could not be reached, instead remaining at remaining at a suboptimal value of 15 and 29 respectively. This indicates that with 200 generations, the evolutionary algorithm that is created cannot find the optimal solution, and more iterations might be needed. The figures show that $n=8$ case converges within 30 iterations every time towards the average solution, while the $n=16$ and $n=32$ solution do not converge yet, but seem to slightly improve even up to the 200th generation. So the difficulty of the problem cases increases for the algorithm, causing the average fitness to only converge for the smallest problem case $n=8$ at 200 generations, while the $n=16$ and $n=32$ cases do not converge.\n"
   ]
  }
 ],
 "metadata": {
  "colab": {
   "provenance": []
  },
  "jupytext": {
   "formats": "ipynb,md,py:light"
  },
  "kernelspec": {
   "display_name": "Python 3 (ipykernel)",
   "language": "python",
   "name": "python3"
  },
  "language_info": {
   "codemirror_mode": {
    "name": "ipython",
    "version": 3
   },
   "file_extension": ".py",
   "mimetype": "text/x-python",
   "name": "python",
   "nbconvert_exporter": "python",
   "pygments_lexer": "ipython3",
   "version": "3.10.10"
  },
  "toc": {
   "base_numbering": 1
  }
 },
 "nbformat": 4,
 "nbformat_minor": 5
}
