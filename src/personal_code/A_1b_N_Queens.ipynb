{
 "cells": [
  {
   "cell_type": "markdown",
   "id": "f9d7c6ac",
   "metadata": {
    "id": "f9d7c6ac"
   },
   "source": [
    "# Evolutionary Computing - N-Queens Problem\n",
    "\n",
    "**Contents**: This notebook contains the updated n-queens problem, using the EC library (most notably the a004 part). The notebook is directly updated from assignment 1a to keep the same structure, and ease readibility of the grader. Cells not necessary for running the algorithm were deleted. The notebook contains an updated algorithm, which has been trimmed down in size compared to 1a due to the use of the library."
   ]
  },
  {
   "cell_type": "markdown",
   "id": "2e54f37c",
   "metadata": {
    "id": "2e54f37c"
   },
   "source": [
    "**Setup**"
   ]
  },
  {
   "cell_type": "markdown",
   "id": "640302f6",
   "metadata": {
    "id": "640302f6"
   },
   "source": [
    "**Install Prerequisites**"
   ]
  },
  {
   "cell_type": "code",
   "execution_count": 1,
   "id": "916ea9f3",
   "metadata": {
    "id": "916ea9f3"
   },
   "outputs": [
    {
     "name": "stdout",
     "output_type": "stream",
     "text": [
      "Requirement already satisfied: numpy in c:\\users\\user\\appdata\\local\\programs\\python\\python313\\lib\\site-packages (2.2.6)\n",
      "Requirement already satisfied: matplotlib in c:\\users\\user\\appdata\\local\\programs\\python\\python313\\lib\\site-packages (3.10.6)\n",
      "Requirement already satisfied: scipy in c:\\users\\user\\appdata\\local\\programs\\python\\python313\\lib\\site-packages (1.16.1)\n",
      "Requirement already satisfied: ariel in c:\\users\\user\\appdata\\local\\programs\\python\\python313\\lib\\site-packages (0.1.0)\n",
      "Requirement already satisfied: contourpy>=1.0.1 in c:\\users\\user\\appdata\\local\\programs\\python\\python313\\lib\\site-packages (from matplotlib) (1.3.3)\n",
      "Requirement already satisfied: cycler>=0.10 in c:\\users\\user\\appdata\\local\\programs\\python\\python313\\lib\\site-packages (from matplotlib) (0.12.1)\n",
      "Requirement already satisfied: fonttools>=4.22.0 in c:\\users\\user\\appdata\\local\\programs\\python\\python313\\lib\\site-packages (from matplotlib) (4.59.2)\n",
      "Requirement already satisfied: kiwisolver>=1.3.1 in c:\\users\\user\\appdata\\local\\programs\\python\\python313\\lib\\site-packages (from matplotlib) (1.4.9)\n",
      "Requirement already satisfied: packaging>=20.0 in c:\\users\\user\\appdata\\roaming\\python\\python313\\site-packages (from matplotlib) (25.0)\n",
      "Requirement already satisfied: pillow>=8 in c:\\users\\user\\appdata\\local\\programs\\python\\python313\\lib\\site-packages (from matplotlib) (11.3.0)\n",
      "Requirement already satisfied: pyparsing>=2.3.1 in c:\\users\\user\\appdata\\local\\programs\\python\\python313\\lib\\site-packages (from matplotlib) (3.2.3)\n",
      "Requirement already satisfied: python-dateutil>=2.7 in c:\\users\\user\\appdata\\roaming\\python\\python313\\site-packages (from matplotlib) (2.9.0.post0)\n",
      "Requirement already satisfied: cmaes>=0.11.1 in c:\\users\\user\\appdata\\local\\programs\\python\\python313\\lib\\site-packages (from ariel) (0.12.0)\n",
      "Requirement already satisfied: fast-perlin-noise>=1.1.2 in c:\\users\\user\\appdata\\local\\programs\\python\\python313\\lib\\site-packages (from ariel) (1.1.2)\n",
      "Requirement already satisfied: mujoco>=3.3.4 in c:\\users\\user\\appdata\\local\\programs\\python\\python313\\lib\\site-packages (from ariel) (3.3.5)\n",
      "Requirement already satisfied: mypy>=1.17.0 in c:\\users\\user\\appdata\\local\\programs\\python\\python313\\lib\\site-packages (from ariel) (1.17.1)\n",
      "Requirement already satisfied: networkx>=3.5 in c:\\users\\user\\appdata\\local\\programs\\python\\python313\\lib\\site-packages (from ariel) (3.5)\n",
      "Requirement already satisfied: nevergrad>=1.0.12 in c:\\users\\user\\appdata\\local\\programs\\python\\python313\\lib\\site-packages (from ariel) (1.0.12)\n",
      "Requirement already satisfied: noise>=1.2.2 in c:\\users\\user\\appdata\\local\\programs\\python\\python313\\lib\\site-packages (from ariel) (1.2.2)\n",
      "Requirement already satisfied: numpy-quaternion>=2024.0.10 in c:\\users\\user\\appdata\\local\\programs\\python\\python313\\lib\\site-packages (from ariel) (2024.0.10)\n",
      "Requirement already satisfied: opencv-python>=4.12.0.88 in c:\\users\\user\\appdata\\local\\programs\\python\\python313\\lib\\site-packages (from ariel) (4.12.0.88)\n",
      "Requirement already satisfied: pandas-stubs>=2.3.0.250703 in c:\\users\\user\\appdata\\local\\programs\\python\\python313\\lib\\site-packages (from ariel) (2.3.2.250827)\n",
      "Requirement already satisfied: pydantic>=2.11.7 in c:\\users\\user\\appdata\\local\\programs\\python\\python313\\lib\\site-packages (from ariel) (2.11.7)\n",
      "Requirement already satisfied: pydantic-settings>=2.10.1 in c:\\users\\user\\appdata\\local\\programs\\python\\python313\\lib\\site-packages (from ariel) (2.10.1)\n",
      "Requirement already satisfied: pytest>=8.4.1 in c:\\users\\user\\appdata\\local\\programs\\python\\python313\\lib\\site-packages (from ariel) (8.4.2)\n",
      "Requirement already satisfied: rich>=14.0.0 in c:\\users\\user\\appdata\\local\\programs\\python\\python313\\lib\\site-packages (from ariel) (14.1.0)\n",
      "Requirement already satisfied: ruff>=0.12.4 in c:\\users\\user\\appdata\\local\\programs\\python\\python313\\lib\\site-packages (from ariel) (0.12.12)\n",
      "Requirement already satisfied: sqlmodel>=0.0.24 in c:\\users\\user\\appdata\\local\\programs\\python\\python313\\lib\\site-packages (from ariel) (0.0.24)\n",
      "Requirement already satisfied: trimesh>=4.7.1 in c:\\users\\user\\appdata\\local\\programs\\python\\python313\\lib\\site-packages (from trimesh[easy]>=4.7.1->ariel) (4.8.1)\n",
      "Requirement already satisfied: types-beautifulsoup4>=4.12.0.20250516 in c:\\users\\user\\appdata\\local\\programs\\python\\python313\\lib\\site-packages (from ariel) (4.12.0.20250516)\n",
      "Requirement already satisfied: types-bleach>=6.2.0.20250809 in c:\\users\\user\\appdata\\local\\programs\\python\\python313\\lib\\site-packages (from ariel) (6.2.0.20250809)\n",
      "Requirement already satisfied: types-networkx>=3.5.0.20250809 in c:\\users\\user\\appdata\\local\\programs\\python\\python313\\lib\\site-packages (from ariel) (3.5.0.20250901)\n",
      "Requirement already satisfied: types-pyyaml>=6.0.12.20250809 in c:\\users\\user\\appdata\\local\\programs\\python\\python313\\lib\\site-packages (from ariel) (6.0.12.20250822)\n",
      "Requirement already satisfied: types-setuptools>=80.9.0.20250809 in c:\\users\\user\\appdata\\local\\programs\\python\\python313\\lib\\site-packages (from ariel) (80.9.0.20250822)\n",
      "Requirement already satisfied: strenum in c:\\users\\user\\appdata\\local\\programs\\python\\python313\\lib\\site-packages (from fast-perlin-noise>=1.1.2->ariel) (0.4.15)\n",
      "Requirement already satisfied: absl-py in c:\\users\\user\\appdata\\local\\programs\\python\\python313\\lib\\site-packages (from mujoco>=3.3.4->ariel) (2.3.1)\n",
      "Requirement already satisfied: etils[epath] in c:\\users\\user\\appdata\\local\\programs\\python\\python313\\lib\\site-packages (from mujoco>=3.3.4->ariel) (1.13.0)\n",
      "Requirement already satisfied: glfw in c:\\users\\user\\appdata\\local\\programs\\python\\python313\\lib\\site-packages (from mujoco>=3.3.4->ariel) (2.9.0)\n",
      "Requirement already satisfied: pyopengl in c:\\users\\user\\appdata\\local\\programs\\python\\python313\\lib\\site-packages (from mujoco>=3.3.4->ariel) (3.1.10)\n",
      "Requirement already satisfied: typing_extensions>=4.6.0 in c:\\users\\user\\appdata\\local\\programs\\python\\python313\\lib\\site-packages (from mypy>=1.17.0->ariel) (4.15.0)\n",
      "Requirement already satisfied: mypy_extensions>=1.0.0 in c:\\users\\user\\appdata\\local\\programs\\python\\python313\\lib\\site-packages (from mypy>=1.17.0->ariel) (1.1.0)\n",
      "Requirement already satisfied: pathspec>=0.9.0 in c:\\users\\user\\appdata\\local\\programs\\python\\python313\\lib\\site-packages (from mypy>=1.17.0->ariel) (0.12.1)\n",
      "Requirement already satisfied: cma>=2.6.0 in c:\\users\\user\\appdata\\local\\programs\\python\\python313\\lib\\site-packages (from nevergrad>=1.0.12->ariel) (4.3.0)\n",
      "Requirement already satisfied: bayesian-optimization==1.4.0 in c:\\users\\user\\appdata\\local\\programs\\python\\python313\\lib\\site-packages (from nevergrad>=1.0.12->ariel) (1.4.0)\n",
      "Requirement already satisfied: pandas in c:\\users\\user\\appdata\\local\\programs\\python\\python313\\lib\\site-packages (from nevergrad>=1.0.12->ariel) (2.3.2)\n",
      "Requirement already satisfied: directsearch in c:\\users\\user\\appdata\\local\\programs\\python\\python313\\lib\\site-packages (from nevergrad>=1.0.12->ariel) (1.0)\n",
      "Requirement already satisfied: scikit-learn>=0.18.0 in c:\\users\\user\\appdata\\local\\programs\\python\\python313\\lib\\site-packages (from bayesian-optimization==1.4.0->nevergrad>=1.0.12->ariel) (1.7.1)\n",
      "Requirement already satisfied: types-pytz>=2022.1.1 in c:\\users\\user\\appdata\\local\\programs\\python\\python313\\lib\\site-packages (from pandas-stubs>=2.3.0.250703->ariel) (2025.2.0.20250809)\n",
      "Requirement already satisfied: annotated-types>=0.6.0 in c:\\users\\user\\appdata\\local\\programs\\python\\python313\\lib\\site-packages (from pydantic>=2.11.7->ariel) (0.7.0)\n",
      "Requirement already satisfied: pydantic-core==2.33.2 in c:\\users\\user\\appdata\\local\\programs\\python\\python313\\lib\\site-packages (from pydantic>=2.11.7->ariel) (2.33.2)\n",
      "Requirement already satisfied: typing-inspection>=0.4.0 in c:\\users\\user\\appdata\\local\\programs\\python\\python313\\lib\\site-packages (from pydantic>=2.11.7->ariel) (0.4.1)\n",
      "Requirement already satisfied: python-dotenv>=0.21.0 in c:\\users\\user\\appdata\\local\\programs\\python\\python313\\lib\\site-packages (from pydantic-settings>=2.10.1->ariel) (1.1.1)\n",
      "Requirement already satisfied: colorama>=0.4 in c:\\users\\user\\appdata\\roaming\\python\\python313\\site-packages (from pytest>=8.4.1->ariel) (0.4.6)\n",
      "Requirement already satisfied: iniconfig>=1 in c:\\users\\user\\appdata\\local\\programs\\python\\python313\\lib\\site-packages (from pytest>=8.4.1->ariel) (2.1.0)\n",
      "Requirement already satisfied: pluggy<2,>=1.5 in c:\\users\\user\\appdata\\local\\programs\\python\\python313\\lib\\site-packages (from pytest>=8.4.1->ariel) (1.6.0)\n",
      "Requirement already satisfied: pygments>=2.7.2 in c:\\users\\user\\appdata\\roaming\\python\\python313\\site-packages (from pytest>=8.4.1->ariel) (2.19.2)\n",
      "Requirement already satisfied: six>=1.5 in c:\\users\\user\\appdata\\roaming\\python\\python313\\site-packages (from python-dateutil>=2.7->matplotlib) (1.17.0)\n",
      "Requirement already satisfied: markdown-it-py>=2.2.0 in c:\\users\\user\\appdata\\local\\programs\\python\\python313\\lib\\site-packages (from rich>=14.0.0->ariel) (4.0.0)\n",
      "Requirement already satisfied: mdurl~=0.1 in c:\\users\\user\\appdata\\local\\programs\\python\\python313\\lib\\site-packages (from markdown-it-py>=2.2.0->rich>=14.0.0->ariel) (0.1.2)\n",
      "Requirement already satisfied: joblib>=1.2.0 in c:\\users\\user\\appdata\\local\\programs\\python\\python313\\lib\\site-packages (from scikit-learn>=0.18.0->bayesian-optimization==1.4.0->nevergrad>=1.0.12->ariel) (1.5.2)\n",
      "Requirement already satisfied: threadpoolctl>=3.1.0 in c:\\users\\user\\appdata\\local\\programs\\python\\python313\\lib\\site-packages (from scikit-learn>=0.18.0->bayesian-optimization==1.4.0->nevergrad>=1.0.12->ariel) (3.6.0)\n",
      "Requirement already satisfied: SQLAlchemy<2.1.0,>=2.0.14 in c:\\users\\user\\appdata\\local\\programs\\python\\python313\\lib\\site-packages (from sqlmodel>=0.0.24->ariel) (2.0.43)\n",
      "Requirement already satisfied: greenlet>=1 in c:\\users\\user\\appdata\\local\\programs\\python\\python313\\lib\\site-packages (from SQLAlchemy<2.1.0,>=2.0.14->sqlmodel>=0.0.24->ariel) (3.2.4)\n",
      "Requirement already satisfied: colorlog in c:\\users\\user\\appdata\\local\\programs\\python\\python313\\lib\\site-packages (from trimesh[easy]>=4.7.1->ariel) (6.9.0)\n",
      "Requirement already satisfied: manifold3d>=2.3.0 in c:\\users\\user\\appdata\\local\\programs\\python\\python313\\lib\\site-packages (from trimesh[easy]>=4.7.1->ariel) (3.2.1)\n",
      "Requirement already satisfied: charset-normalizer in c:\\users\\user\\appdata\\local\\programs\\python\\python313\\lib\\site-packages (from trimesh[easy]>=4.7.1->ariel) (3.4.3)\n",
      "Requirement already satisfied: lxml in c:\\users\\user\\appdata\\local\\programs\\python\\python313\\lib\\site-packages (from trimesh[easy]>=4.7.1->ariel) (6.0.1)\n",
      "Requirement already satisfied: jsonschema in c:\\users\\user\\appdata\\local\\programs\\python\\python313\\lib\\site-packages (from trimesh[easy]>=4.7.1->ariel) (4.25.1)\n",
      "Requirement already satisfied: svg.path in c:\\users\\user\\appdata\\local\\programs\\python\\python313\\lib\\site-packages (from trimesh[easy]>=4.7.1->ariel) (7.0)\n",
      "Requirement already satisfied: pycollada in c:\\users\\user\\appdata\\local\\programs\\python\\python313\\lib\\site-packages (from trimesh[easy]>=4.7.1->ariel) (0.9.2)\n",
      "Requirement already satisfied: shapely in c:\\users\\user\\appdata\\local\\programs\\python\\python313\\lib\\site-packages (from trimesh[easy]>=4.7.1->ariel) (2.1.1)\n",
      "Requirement already satisfied: xxhash in c:\\users\\user\\appdata\\local\\programs\\python\\python313\\lib\\site-packages (from trimesh[easy]>=4.7.1->ariel) (3.5.0)\n",
      "Requirement already satisfied: rtree in c:\\users\\user\\appdata\\local\\programs\\python\\python313\\lib\\site-packages (from trimesh[easy]>=4.7.1->ariel) (1.4.1)\n",
      "Requirement already satisfied: httpx in c:\\users\\user\\appdata\\local\\programs\\python\\python313\\lib\\site-packages (from trimesh[easy]>=4.7.1->ariel) (0.28.1)\n",
      "Requirement already satisfied: vhacdx in c:\\users\\user\\appdata\\local\\programs\\python\\python313\\lib\\site-packages (from trimesh[easy]>=4.7.1->ariel) (0.0.8.post2)\n",
      "Requirement already satisfied: mapbox_earcut>=1.0.2 in c:\\users\\user\\appdata\\local\\programs\\python\\python313\\lib\\site-packages (from trimesh[easy]>=4.7.1->ariel) (1.0.3)\n",
      "Requirement already satisfied: types-html5lib in c:\\users\\user\\appdata\\local\\programs\\python\\python313\\lib\\site-packages (from types-beautifulsoup4>=4.12.0.20250516->ariel) (1.1.11.20250809)\n",
      "Requirement already satisfied: fsspec in c:\\users\\user\\appdata\\local\\programs\\python\\python313\\lib\\site-packages (from etils[epath]->mujoco>=3.3.4->ariel) (2025.9.0)\n",
      "Requirement already satisfied: importlib_resources in c:\\users\\user\\appdata\\local\\programs\\python\\python313\\lib\\site-packages (from etils[epath]->mujoco>=3.3.4->ariel) (6.5.2)\n",
      "Requirement already satisfied: zipp in c:\\users\\user\\appdata\\local\\programs\\python\\python313\\lib\\site-packages (from etils[epath]->mujoco>=3.3.4->ariel) (3.23.0)\n",
      "Requirement already satisfied: anyio in c:\\users\\user\\appdata\\local\\programs\\python\\python313\\lib\\site-packages (from httpx->trimesh[easy]>=4.7.1->ariel) (4.10.0)\n",
      "Requirement already satisfied: certifi in c:\\users\\user\\appdata\\local\\programs\\python\\python313\\lib\\site-packages (from httpx->trimesh[easy]>=4.7.1->ariel) (2025.8.3)\n",
      "Requirement already satisfied: httpcore==1.* in c:\\users\\user\\appdata\\local\\programs\\python\\python313\\lib\\site-packages (from httpx->trimesh[easy]>=4.7.1->ariel) (1.0.9)\n",
      "Requirement already satisfied: idna in c:\\users\\user\\appdata\\local\\programs\\python\\python313\\lib\\site-packages (from httpx->trimesh[easy]>=4.7.1->ariel) (3.10)\n",
      "Requirement already satisfied: h11>=0.16 in c:\\users\\user\\appdata\\local\\programs\\python\\python313\\lib\\site-packages (from httpcore==1.*->httpx->trimesh[easy]>=4.7.1->ariel) (0.16.0)\n",
      "Requirement already satisfied: sniffio>=1.1 in c:\\users\\user\\appdata\\local\\programs\\python\\python313\\lib\\site-packages (from anyio->httpx->trimesh[easy]>=4.7.1->ariel) (1.3.1)\n",
      "Requirement already satisfied: attrs>=22.2.0 in c:\\users\\user\\appdata\\local\\programs\\python\\python313\\lib\\site-packages (from jsonschema->trimesh[easy]>=4.7.1->ariel) (25.3.0)\n",
      "Requirement already satisfied: jsonschema-specifications>=2023.03.6 in c:\\users\\user\\appdata\\local\\programs\\python\\python313\\lib\\site-packages (from jsonschema->trimesh[easy]>=4.7.1->ariel) (2025.4.1)\n",
      "Requirement already satisfied: referencing>=0.28.4 in c:\\users\\user\\appdata\\local\\programs\\python\\python313\\lib\\site-packages (from jsonschema->trimesh[easy]>=4.7.1->ariel) (0.36.2)\n",
      "Requirement already satisfied: rpds-py>=0.7.1 in c:\\users\\user\\appdata\\local\\programs\\python\\python313\\lib\\site-packages (from jsonschema->trimesh[easy]>=4.7.1->ariel) (0.27.1)\n",
      "Requirement already satisfied: pytz>=2020.1 in c:\\users\\user\\appdata\\local\\programs\\python\\python313\\lib\\site-packages (from pandas->nevergrad>=1.0.12->ariel) (2025.2)\n",
      "Requirement already satisfied: tzdata>=2022.7 in c:\\users\\user\\appdata\\local\\programs\\python\\python313\\lib\\site-packages (from pandas->nevergrad>=1.0.12->ariel) (2025.2)\n",
      "Note: you may need to restart the kernel to use updated packages.\n"
     ]
    }
   ],
   "source": [
    "# Run this cell to install the required libraries\n",
    "%pip install numpy matplotlib scipy ariel"
   ]
  },
  {
   "cell_type": "markdown",
   "id": "a1dc76f9",
   "metadata": {
    "id": "a1dc76f9"
   },
   "source": [
    "**Imports**"
   ]
  },
  {
   "cell_type": "code",
   "execution_count": null,
   "id": "cb309f93",
   "metadata": {
    "id": "cb309f93"
   },
   "outputs": [],
   "source": [
    "# Necessary libraries\n",
    "import matplotlib.pyplot as plt\n",
    "import numpy as np\n",
    "from scipy.stats import ranksums\n",
    "\n",
    "# New necessary libraries for using ariel\n",
    "from ariel.ec import a004\n",
    "from functools import partial # For passing extra arguments to functions\n",
    "import gc # For garbage collection (db file removal)\n",
    "import os # For file operations (db file removal)\n",
    "\n",
    "# Set seed\n",
    "np.random.seed(42)"
   ]
  },
  {
   "cell_type": "markdown",
   "id": "1713f8d4",
   "metadata": {
    "id": "1713f8d4"
   },
   "source": [
    "**Plotting**"
   ]
  },
  {
   "cell_type": "code",
   "execution_count": 3,
   "id": "9e702a59",
   "metadata": {
    "id": "9e702a59"
   },
   "outputs": [
    {
     "name": "stdout",
     "output_type": "stream",
     "text": [
      "Requirement already satisfied: PyQt5 in c:\\users\\user\\appdata\\local\\programs\\python\\python313\\lib\\site-packages (5.15.11)\n",
      "Requirement already satisfied: PyQt5-sip<13,>=12.15 in c:\\users\\user\\appdata\\local\\programs\\python\\python313\\lib\\site-packages (from PyQt5) (12.17.0)\n",
      "Requirement already satisfied: PyQt5-Qt5<5.16.0,>=5.15.2 in c:\\users\\user\\appdata\\local\\programs\\python\\python313\\lib\\site-packages (from PyQt5) (5.15.2)\n",
      "Note: you may need to restart the kernel to use updated packages.\n"
     ]
    }
   ],
   "source": [
    "# Enables inline matplotib graphs\n",
    "# %matplotlib inline\n",
    "%pip install PyQt5\n",
    "# Comment the line above and uncomment the lines below to have interactive plots\n",
    "# WARN: may cause dependency issues\n",
    "#%matplotlib qt5\n",
    "#%pip install PyQt5\n",
    "#plt.ion()"
   ]
  },
  {
   "cell_type": "code",
   "execution_count": 4,
   "id": "fMd3wJSnI4dp",
   "metadata": {
    "id": "fMd3wJSnI4dp"
   },
   "outputs": [],
   "source": [
    "def generate_subplot_function(\n",
    "    avgs_experiment_1,\n",
    "    stds_experiment_1,\n",
    "    labels,\n",
    "    avgs_experiment_2,\n",
    "    stds_experiment_2,\n",
    "    n_columns,\n",
    "    n_queens,\n",
    "):\n",
    "    \"\"\"This helper function generates subplots for the experiments.\"\"\"\n",
    "    fig, axes = plt.subplots(nrows=1, ncols=n_columns, figsize=(18, 6))\n",
    "\n",
    "    for i in range(len(avgs_experiment_1)):\n",
    "        if avgs_experiment_2 is not None:\n",
    "            # Plot data for subplot 1\n",
    "            axes[i].plot(avgs_experiment_2[i], label=\"Experiment 2\", color=\"green\")\n",
    "            axes[i].fill_between(\n",
    "                np.arange(len(avgs_experiment_2[i])),\n",
    "                avgs_experiment_2[i] - stds_experiment_2[i],\n",
    "                avgs_experiment_2[i] + stds_experiment_2[i],\n",
    "                alpha=0.2,\n",
    "                color=\"green\",\n",
    "            )\n",
    "            axes[i].set_ylim(bottom=0)\n",
    "\n",
    "            if n_queens:\n",
    "                axes[i].set_ylim(top=n_queens[i])\n",
    "\n",
    "        axes[i].plot(avgs_experiment_1[i], label=\"Experiment 1\", color=\"blue\")\n",
    "        axes[i].fill_between(\n",
    "            np.arange(len(avgs_experiment_1[i])),\n",
    "            avgs_experiment_1[i] - stds_experiment_1[i],\n",
    "            avgs_experiment_1[i] + stds_experiment_1[i],\n",
    "            alpha=0.2,\n",
    "            color=\"blue\",\n",
    "        )\n",
    "        axes[i].set_title(labels[i])\n",
    "        axes[i].set_ylim(bottom=0)\n",
    "        if n_queens:\n",
    "            axes[i].set_ylim(top=n_queens[i])\n",
    "\n",
    "    # Set common labels and title\n",
    "    for ax in axes:\n",
    "        ax.set_xlabel(\"Generations\")\n",
    "        ax.set_ylabel(\"Average Best Fitness\")\n",
    "        ax.legend()\n",
    "\n",
    "    plt.tight_layout()"
   ]
  },
  {
   "cell_type": "markdown",
   "id": "6a13a879",
   "metadata": {
    "id": "6a13a879"
   },
   "source": [
    "---"
   ]
  },
  {
   "cell_type": "code",
   "execution_count": 5,
   "id": "fd5ded27",
   "metadata": {
    "id": "fd5ded27"
   },
   "outputs": [],
   "source": [
    "def visualize_solution(solution):\n",
    "    \"\"\"Visualize the placement of queens on the chessboard.\"\"\"\n",
    "    \n",
    "    ################################################################\n",
    "    \n",
    "    #Get the number of rows and columns n and make a grid of dots\n",
    "    n =len(solution)\n",
    "    visual = np.full((n, n), \".\", dtype=str)\n",
    "    \n",
    "    # For each row fill in a Q to show the column the queen is placed in\n",
    "    for i,column in enumerate( solution):\n",
    "        visual[i,column] = \"Q\"\n",
    "    \n",
    "    # For each row in the array, print the row connected by spaces in between (print automatically handles newline)\n",
    "    for row in visual:\n",
    "        print(\" \".join(row))\n",
    "\n",
    "    ################################################################"
   ]
  },
  {
   "cell_type": "markdown",
   "id": "9692a75d",
   "metadata": {
    "id": "9692a75d"
   },
   "source": [
    "Write the evaluation function to assess how good your solution is."
   ]
  },
  {
   "cell_type": "code",
   "execution_count": 6,
   "id": "ee8ddfb1",
   "metadata": {
    "id": "ee8ddfb1"
   },
   "outputs": [],
   "source": [
    "def evaluate_solution_n_queens(solution):\n",
    "    \"\"\"Calculate the fitness of an solution.\"\"\"\n",
    "    ################################################################\n",
    "    #Set initial fitness to the maximum number of queens, if no conflicts arise, this is the fitness.\n",
    "    fitness = len(solution)\n",
    "    \n",
    "    # For each row (and queen) check if there exists a conflict with another queen that has not been checked yet, \n",
    "    # if so, reduce the fitness by one. \n",
    "    # The fitness thus becomes the amount of queens that need to be removed for a non-conflict solution\n",
    "    \n",
    "    for i in range(len(solution)):\n",
    "        conflict = False\n",
    "        for j in range(i+1, len(solution)):\n",
    "            # If the difference between the column index of 2 queens is the same as the difference in row index, \n",
    "            # then the slope is 1 (or -1 thus the absolute value), such that they must lie on the same diagonal \n",
    "            #which by definition has slope 1\n",
    "            if abs(solution[i]- solution[j]) == abs(i-j):\n",
    "                conflict =True\n",
    "        if conflict:        \n",
    "            fitness -=1\n",
    "\n",
    "    ################################################################\n",
    "\n",
    "    return fitness"
   ]
  },
  {
   "cell_type": "code",
   "execution_count": 7,
   "id": "29e1b2d8",
   "metadata": {},
   "outputs": [
    {
     "data": {
      "text/plain": [
       "4"
      ]
     },
     "execution_count": 7,
     "metadata": {},
     "output_type": "execute_result"
    }
   ],
   "source": [
    "evaluate_solution_n_queens([2,0,3,1])"
   ]
  },
  {
   "cell_type": "markdown",
   "id": "a108b368",
   "metadata": {
    "id": "a108b368"
   },
   "source": [
    "Try your implementations to see if your solution encoding matches to visualization and whether the fitness is computed correctly."
   ]
  },
  {
   "cell_type": "markdown",
   "id": "096ded4b",
   "metadata": {
    "id": "096ded4b"
   },
   "source": [
    "---\n"
   ]
  },
  {
   "cell_type": "markdown",
   "id": "7fe89599",
   "metadata": {},
   "source": [
    "\n",
    "### **Task 2 (0-0.4-0.8-1.2-1.6 pt):** \n",
    "Write an evolutionary algorithm that can initialize a population of solutions and finds N queen placement to NxN board optimizing the number of attacks (could be minimization or maximization based on your evaluation function of the solutions)."
   ]
  },
  {
   "cell_type": "code",
   "execution_count": null,
   "id": "9f1ab122",
   "metadata": {
    "id": "9f1ab122"
   },
   "outputs": [],
   "source": [
    "\n",
    "\n",
    "def initialization_n_queens(population_size, num_of_dims):\n",
    "    \"\"\"Generate a population of solutions using a004.Individual.\"\"\"\n",
    "    # Use a004.Individual to create individuals, with genotype of the permutation of numbers from 0 to num_of_dims-1\n",
    "    population = []\n",
    "    for _ in range(population_size):\n",
    "        ind = a004.Individual()  # create an Individual\n",
    "        ind.genotype = [int(i) for i in np.random.permutation(num_of_dims)]  # set the genotype\n",
    "        population.append(ind)\n",
    "    return population\n",
    "\n",
    "\n",
    "def evaluation_n_queens(x):\n",
    "    \"\"\"Evaluate the fitness of required individuals using evaluate_solution_n_queens (custom function).\"\"\"\n",
    "    for ind in x:\n",
    "        if ind.requires_eval:\n",
    "            ind.fitness = evaluate_solution_n_queens(ind.genotype)\n",
    "    return x\n",
    "\n",
    "\n",
    "def crossover_n_queens(x, p_crossover):\n",
    "    \"\"\"Perform crossover to create offsprings using a005.crossover.\"\"\"\n",
    "    parents = [ind for ind in x if ind.tags.get(\"ps\", False)]\n",
    "    for i in range(0, len(parents), 2):\n",
    "        parent_a = parents[i]\n",
    "        parent_b = parents[(i+1)%len(parents)]\n",
    "\n",
    "        # Only apply crossover when the random number is less than p_crossover, else append parents\n",
    "        if np.random.rand() < p_crossover:\n",
    "            # Perform one-point crossover, which is similar to a004 crossover but adapted for permutations\n",
    "            genei, genei = a004.Crossover.one_point(parent_a.genotype, parent_b.genotype)\n",
    "\n",
    "            # First child\n",
    "            child_i = a004.Individual()\n",
    "            child_i.genotype = genei\n",
    "            child_i.tags = {\"mut\": True}\n",
    "\n",
    "            # Second child\n",
    "            child_j = a004.Individual()\n",
    "            child_j.genotype = genei\n",
    "            child_j.tags = {\"mut\": True}\n",
    "\n",
    "            x.append(child_i)\n",
    "            x.append(child_j)\n",
    "        else:\n",
    "            x.append(parent_a)\n",
    "            x.append(parent_b)\n",
    "    return x\n",
    "\n",
    "\n",
    "def mutation_n_queens(x, mutation_rate):\n",
    "    \"\"\"Apply mutation to an individual using a005.mutate.\"\"\"\n",
    "    for ind in x:\n",
    "        # Mutate with a probability of mutation_rate\n",
    "        # It was chosen that both crossover and mutation should be possible in the same generation, increasing diversity    \n",
    "        if np.random.rand() < mutation_rate:\n",
    "            mutate_solution = ind.genotype.copy()\n",
    "            index_1, index_2 = np.random.choice(len(mutate_solution), size=2, replace=False)\n",
    "            # Swap indices\n",
    "            mutate_solution[index_1], mutate_solution[index_2] = mutate_solution[index_2], mutate_solution[index_1]\n",
    "            ind.genotype = mutate_solution\n",
    "            ind.requires_eval = True\n",
    "    return x\n",
    "\n",
    "\n",
    "def parent_selection_n_queens(x):\n",
    "    # Use the parent_selection function from a004, whch uses tournament selection (k=2) by default\n",
    "    selected_population = a004.parent_selection(x)\n",
    "    return selected_population\n",
    "\n",
    "\n",
    "def survivor_selection_n_queens(x):\n",
    "    # Use the parent_selection function from a004, whch uses tournament selection (k=2) by default\n",
    "    x_survivors = a004.survivor_selection(x)\n",
    "    return x_survivors\n",
    "\n",
    "def ea_n_queens(population_size, max_fit_evals, p_crossover, m_rate, num_of_dims):\n",
    "    \n",
    "    number_of_generations = max_fit_evals // population_size\n",
    "    population_list = initialization_n_queens(population_size, num_of_dims)\n",
    "    # Create EA steps\n",
    "    ops = [\n",
    "        a004.EAStep(\"evaluation\", evaluation_n_queens), # Start with evaluation to avoid unevaluated individuals\n",
    "        a004.EAStep(\"survivor_selection\", survivor_selection_n_queens), # Manage population (does nothing first generation)\n",
    "        a004.EAStep(\"parent_selection\", parent_selection_n_queens), # Select parents for crossover\n",
    "        a004.EAStep(\"crossover\", partial(crossover_n_queens, p_crossover=p_crossover)), # Crossover, use patial for passing extra arguments\n",
    "        a004.EAStep(\"mutation\", partial(mutation_n_queens, mutation_rate=m_rate)), # Mutate (might end up with larger last generation, but best solution will always be kept, so the final solution is equivalent)\n",
    "\n",
    "    ]\n",
    "    \n",
    "    # Initialize the EA, using a004, which makes the process shorter\n",
    "    ea = a004.BasicEA(population = population_list,\n",
    "                        operations=ops,\n",
    "                        num_of_generations=number_of_generations)\n",
    "\n",
    "    # Run the EA manually to be able to store best solutions at each generation\n",
    "    best_x= []\n",
    "    best_f =[]\n",
    "    for _ in range(ea.num_of_generations):\n",
    "        ea.step()\n",
    "        best = ea.get_solution(only_alive=False)\n",
    "        best_x.append(best.genotype)\n",
    "        best_f.append(best.fitness)\n",
    "\n",
    "    # Delete the reference to the EA to allow for deleting the database file\n",
    "    del ea  # remove the reference\n",
    "    gc.collect()  # force garbage collection\n",
    "\n",
    "    # Remove the database file created by a004 to avoid delete warnings in future runs\n",
    "    db_path = \"__data__/database.db\"\n",
    "    if os.path.exists(db_path):\n",
    "        os.remove(db_path)\n",
    "\n",
    "    return best_x, best_f\n"
   ]
  },
  {
   "cell_type": "markdown",
   "id": "834b52f6",
   "metadata": {
    "id": "834b52f6"
   },
   "source": [
    "---\n",
    "**Results:**\n",
    "\n",
    "Run the code below to run an EA for N=8, 16 and 32, and visualize the best solutions found.\n",
    "Note, it is not allowed to change the hyper parameters\n"
   ]
  },
  {
   "cell_type": "code",
   "execution_count": 9,
   "id": "7dcb4dbf-7268-4ae6-ab9b-9a83cf0e8ca1",
   "metadata": {},
   "outputs": [
    {
     "name": "stdout",
     "output_type": "stream",
     "text": [
      "Case when N=8:\n"
     ]
    },
    {
     "data": {
      "text/html": [
       "<pre style=\"white-space:pre;overflow-x:auto;line-height:normal;font-family:Menlo,'DejaVu Sans Mono',consolas,'Courier New',monospace\"><span style=\"color: #00ff00; text-decoration-color: #00ff00\">───────────────────────────────────────────────── </span><span style=\"color: #000080; text-decoration-color: #000080\">EA Initialised</span><span style=\"color: #00ff00; text-decoration-color: #00ff00\"> ──────────────────────────────────────────────────</span>\n",
       "</pre>\n"
      ],
      "text/plain": [
       "\u001b[92m───────────────────────────────────────────────── \u001b[0m\u001b[34mEA Initialised\u001b[0m\u001b[92m ──────────────────────────────────────────────────\u001b[0m\n"
      ]
     },
     "metadata": {},
     "output_type": "display_data"
    },
    {
     "name": "stdout",
     "output_type": "stream",
     "text": [
      "Best fitness: 8.0\n",
      "Best solution found:\n",
      ". . . Q . . . .\n",
      ". . . . . . Q .\n",
      ". . . Q . . . .\n",
      ". . . . . Q . .\n",
      ". . Q . . . . .\n",
      ". . . . . Q . .\n",
      ". . . Q . . . .\n",
      ". . . . . . Q .\n"
     ]
    }
   ],
   "source": [
    "print(\"Case when N=8:\")\n",
    "x_best, f_best = ea_n_queens(10, 1000, 0.5, 0.1, 8)\n",
    "\n",
    "\n",
    "print(\"Best fitness:\", f_best[-1])\n",
    "print(\"Best solution found:\")\n",
    "visualize_solution(x_best[-1])\n"
   ]
  },
  {
   "cell_type": "code",
   "execution_count": 10,
   "id": "36d92379",
   "metadata": {
    "id": "36d92379"
   },
   "outputs": [
    {
     "name": "stdout",
     "output_type": "stream",
     "text": [
      "Case when N=16:\n"
     ]
    },
    {
     "data": {
      "text/html": [
       "<pre style=\"white-space:pre;overflow-x:auto;line-height:normal;font-family:Menlo,'DejaVu Sans Mono',consolas,'Courier New',monospace\"><span style=\"color: #00ff00; text-decoration-color: #00ff00\">───────────────────────────────────────────────── </span><span style=\"color: #000080; text-decoration-color: #000080\">EA Initialised</span><span style=\"color: #00ff00; text-decoration-color: #00ff00\"> ──────────────────────────────────────────────────</span>\n",
       "</pre>\n"
      ],
      "text/plain": [
       "\u001b[92m───────────────────────────────────────────────── \u001b[0m\u001b[34mEA Initialised\u001b[0m\u001b[92m ──────────────────────────────────────────────────\u001b[0m\n"
      ]
     },
     "metadata": {},
     "output_type": "display_data"
    },
    {
     "name": "stdout",
     "output_type": "stream",
     "text": [
      "Best fitness: 16.0\n",
      "Best solution found:\n",
      "Q . . . . . . . . . . . . . . .\n",
      ". . . Q . . . . . . . . . . . .\n",
      ". . . . . . . . . . . . . Q . .\n",
      ". . . . . . . Q . . . . . . . .\n",
      ". . . . . Q . . . . . . . . . .\n",
      ". . . . . . . . . . . . . . Q .\n",
      ". Q . . . . . . . . . . . . . .\n",
      ". . . . . . . . . . . . . . . Q\n",
      ". . . . . . Q . . . . . . . . .\n",
      ". . . Q . . . . . . . . . . . .\n",
      ". . . . . . . . . . . . . Q . .\n",
      ". . Q . . . . . . . . . . . . .\n",
      ". . . . . Q . . . . . . . . . .\n",
      ". . . . . . . . . . . . Q . . .\n",
      ". . . . . . Q . . . . . . . . .\n",
      ". . . . . . . . . . . . Q . . .\n"
     ]
    }
   ],
   "source": [
    "print(\"Case when N=16:\")\n",
    "x_best, f_best = ea_n_queens(100, 10000, 0.5, 0.1, 16)\n",
    "\n",
    "\n",
    "print(\"Best fitness:\", f_best[-1])\n",
    "print(\"Best solution found:\")\n",
    "visualize_solution(x_best[-1])"
   ]
  },
  {
   "cell_type": "code",
   "execution_count": 11,
   "id": "c3bf67e0",
   "metadata": {
    "id": "c3bf67e0"
   },
   "outputs": [
    {
     "name": "stdout",
     "output_type": "stream",
     "text": [
      "Case when N=32:\n"
     ]
    },
    {
     "data": {
      "text/html": [
       "<pre style=\"white-space:pre;overflow-x:auto;line-height:normal;font-family:Menlo,'DejaVu Sans Mono',consolas,'Courier New',monospace\"><span style=\"color: #00ff00; text-decoration-color: #00ff00\">───────────────────────────────────────────────── </span><span style=\"color: #000080; text-decoration-color: #000080\">EA Initialised</span><span style=\"color: #00ff00; text-decoration-color: #00ff00\"> ──────────────────────────────────────────────────</span>\n",
       "</pre>\n"
      ],
      "text/plain": [
       "\u001b[92m───────────────────────────────────────────────── \u001b[0m\u001b[34mEA Initialised\u001b[0m\u001b[92m ──────────────────────────────────────────────────\u001b[0m\n"
      ]
     },
     "metadata": {},
     "output_type": "display_data"
    },
    {
     "name": "stdout",
     "output_type": "stream",
     "text": [
      "Best fitness: 31.0\n",
      "Best solution found:\n",
      ". . . . . . . . . Q . . . . . . . . . . . . . . . . . . . . . .\n",
      ". . . . . . . . . . . . . . . . . . Q . . . . . . . . . . . . .\n",
      ". . Q . . . . . . . . . . . . . . . . . . . . . . . . . . . . .\n",
      ". . . . . . . . . Q . . . . . . . . . . . . . . . . . . . . . .\n",
      ". . . . . . . . . . . . . . . . . . . . . . . . . . . Q . . . .\n",
      ". . . . . . . . . . . . . . . . . . . . . . . . . . . . . . Q .\n",
      ". . . . . . . . . . . . . . . . . . . . . . . . . . . . Q . . .\n",
      ". . . . . . . . . . . . . . . . . . . . Q . . . . . . . . . . .\n",
      "Q . . . . . . . . . . . . . . . . . . . . . . . . . . . . . . .\n",
      ". . . . . . . . . . . Q . . . . . . . . . . . . . . . . . . . .\n",
      "Q . . . . . . . . . . . . . . . . . . . . . . . . . . . . . . .\n",
      ". . . . . . . . . . . . . . . . . . . . . . . . . . . . . . . Q\n",
      ". . . . . . . . . . . . . . . . . . . . . . . . . . Q . . . . .\n",
      ". . . . . . . . . . . . . . . . . . . . . . . . Q . . . . . . .\n",
      ". . . . . . . . . . . . . . . . . . . Q . . . . . . . . . . . .\n",
      ". . . . . . . . . . . . . . Q . . . . . . . . . . . . . . . . .\n",
      ". . Q . . . . . . . . . . . . . . . . . . . . . . . . . . . . .\n",
      ". . . . . . . . . . . . . . . Q . . . . . . . . . . . . . . . .\n",
      ". . . . . . . . . . . . Q . . . . . . . . . . . . . . . . . . .\n",
      ". . . . Q . . . . . . . . . . . . . . . . . . . . . . . . . . .\n",
      ". . . . . . . . . . . . . . . . . . . . . . . . . Q . . . . . .\n",
      ". . . . . Q . . . . . . . . . . . . . . . . . . . . . . . . . .\n",
      ". . . . . . . . . . . . . . . . . . Q . . . . . . . . . . . . .\n",
      ". . . . . . . . . . Q . . . . . . . . . . . . . . . . . . . . .\n",
      "Q . . . . . . . . . . . . . . . . . . . . . . . . . . . . . . .\n",
      "Q . . . . . . . . . . . . . . . . . . . . . . . . . . . . . . .\n",
      ". . . . . . . . . . . . . . . . . . . . . . . . . . . . . . Q .\n",
      ". . . . . . . . . Q . . . . . . . . . . . . . . . . . . . . . .\n",
      ". . . . . . . . . . . . . . . . . . . . . . . . . . . . . . . Q\n",
      ". . . . . . . . . . . . . . . . . . . . . . . . . . Q . . . . .\n",
      ". . . . . . . . . . . . . . . . . . Q . . . . . . . . . . . . .\n",
      ". . . . . . . . . . . . . . . . . . . . . . Q . . . . . . . . .\n"
     ]
    }
   ],
   "source": [
    "print(\"Case when N=32:\")\n",
    "x_best, f_best = ea_n_queens(100, 10000, 0.5, 0.1, 32)\n",
    "\n",
    "print(\"Best fitness:\", f_best[-1])\n",
    "print(\"Best solution found:\")\n",
    "visualize_solution(x_best[-1])"
   ]
  },
  {
   "cell_type": "markdown",
   "id": "9e3eaf63",
   "metadata": {
    "id": "9e3eaf63"
   },
   "source": [
    "---"
   ]
  },
  {
   "cell_type": "markdown",
   "id": "dbe0f03d",
   "metadata": {},
   "source": [
    "### Plotting the average performance of the algorithm\n",
    "Use the cells below to plot the results of your algorithm. The plots should show average and std of 10 runs of EA for n-queens problem for N=8, 16, 32."
   ]
  },
  {
   "cell_type": "code",
   "execution_count": 12,
   "id": "lM5uc2tsJMw4",
   "metadata": {
    "id": "lM5uc2tsJMw4"
   },
   "outputs": [],
   "source": [
    "def calculate_mean_std(f_best):\n",
    "    \"\"\"This is a helper function to calculate the mean and standard deviation of the best fitness values.\"\"\"\n",
    "    f_best = np.array(f_best)\n",
    "    avg = np.mean(f_best, axis=0)\n",
    "    std = np.std(f_best, axis=0)\n",
    "    return avg, std"
   ]
  },
  {
   "cell_type": "code",
   "execution_count": 13,
   "id": "2321602c",
   "metadata": {
    "id": "2321602c"
   },
   "outputs": [],
   "source": [
    "def run_experiment_n_queens(population_size, p_crossover, m_rate):\n",
    "\n",
    "    # These are the hyperparameters of your evolutionary algorithm. You are not allowed to change them.\n",
    "    runs = 10\n",
    "    max_fit_evals = 10000\n",
    "\n",
    "\n",
    "    fitness_8 = []\n",
    "    fitness_16 = []\n",
    "    fitness_32 = []\n",
    "\n",
    "\n",
    "\n",
    "    for run in range(runs):\n",
    "        print(\"Run: \", run)\n",
    "\n",
    "        _, f_best_8 = ea_n_queens(\n",
    "            population_size[0], max_fit_evals, p_crossover[0], m_rate[0], num_of_dims=8\n",
    "        )\n",
    "        _, f_best_16 = ea_n_queens(\n",
    "            population_size[1], max_fit_evals, p_crossover[1], m_rate[1], num_of_dims=16\n",
    "        )\n",
    "        _, f_best_32 = ea_n_queens(\n",
    "            population_size[2], max_fit_evals, p_crossover[2], m_rate[2], num_of_dims=32\n",
    "        )\n",
    "        fitness_8.append(f_best_8)\n",
    "        fitness_16.append(f_best_16)\n",
    "        fitness_32.append(f_best_32)\n",
    "\n",
    "    avg_8, std_8 = calculate_mean_std(fitness_8)\n",
    "    avg_16, std_16 = calculate_mean_std(fitness_16)\n",
    "    avg_32, std_32 = calculate_mean_std(fitness_32)\n",
    "\n",
    "    avgs = [avg_8, avg_16, avg_32]\n",
    "    stds = [std_8, std_16, std_32]\n",
    "    all_runs = [fitness_8, fitness_16, fitness_32]\n",
    "\n",
    "    return avgs, stds, all_runs"
   ]
  },
  {
   "cell_type": "code",
   "execution_count": 14,
   "id": "0db973a3",
   "metadata": {
    "id": "0db973a3"
   },
   "outputs": [
    {
     "name": "stdout",
     "output_type": "stream",
     "text": [
      "Run:  0\n"
     ]
    },
    {
     "data": {
      "text/html": [
       "<pre style=\"white-space:pre;overflow-x:auto;line-height:normal;font-family:Menlo,'DejaVu Sans Mono',consolas,'Courier New',monospace\"><span style=\"color: #00ff00; text-decoration-color: #00ff00\">───────────────────────────────────────────────── </span><span style=\"color: #000080; text-decoration-color: #000080\">EA Initialised</span><span style=\"color: #00ff00; text-decoration-color: #00ff00\"> ──────────────────────────────────────────────────</span>\n",
       "</pre>\n"
      ],
      "text/plain": [
       "\u001b[92m───────────────────────────────────────────────── \u001b[0m\u001b[34mEA Initialised\u001b[0m\u001b[92m ──────────────────────────────────────────────────\u001b[0m\n"
      ]
     },
     "metadata": {},
     "output_type": "display_data"
    },
    {
     "data": {
      "text/html": [
       "<pre style=\"white-space:pre;overflow-x:auto;line-height:normal;font-family:Menlo,'DejaVu Sans Mono',consolas,'Courier New',monospace\"><span style=\"color: #00ff00; text-decoration-color: #00ff00\">───────────────────────────────────────────────── </span><span style=\"color: #000080; text-decoration-color: #000080\">EA Initialised</span><span style=\"color: #00ff00; text-decoration-color: #00ff00\"> ──────────────────────────────────────────────────</span>\n",
       "</pre>\n"
      ],
      "text/plain": [
       "\u001b[92m───────────────────────────────────────────────── \u001b[0m\u001b[34mEA Initialised\u001b[0m\u001b[92m ──────────────────────────────────────────────────\u001b[0m\n"
      ]
     },
     "metadata": {},
     "output_type": "display_data"
    },
    {
     "data": {
      "text/html": [
       "<pre style=\"white-space:pre;overflow-x:auto;line-height:normal;font-family:Menlo,'DejaVu Sans Mono',consolas,'Courier New',monospace\"><span style=\"color: #00ff00; text-decoration-color: #00ff00\">───────────────────────────────────────────────── </span><span style=\"color: #000080; text-decoration-color: #000080\">EA Initialised</span><span style=\"color: #00ff00; text-decoration-color: #00ff00\"> ──────────────────────────────────────────────────</span>\n",
       "</pre>\n"
      ],
      "text/plain": [
       "\u001b[92m───────────────────────────────────────────────── \u001b[0m\u001b[34mEA Initialised\u001b[0m\u001b[92m ──────────────────────────────────────────────────\u001b[0m\n"
      ]
     },
     "metadata": {},
     "output_type": "display_data"
    },
    {
     "name": "stdout",
     "output_type": "stream",
     "text": [
      "Run:  1\n"
     ]
    },
    {
     "data": {
      "text/html": [
       "<pre style=\"white-space:pre;overflow-x:auto;line-height:normal;font-family:Menlo,'DejaVu Sans Mono',consolas,'Courier New',monospace\"><span style=\"color: #00ff00; text-decoration-color: #00ff00\">───────────────────────────────────────────────── </span><span style=\"color: #000080; text-decoration-color: #000080\">EA Initialised</span><span style=\"color: #00ff00; text-decoration-color: #00ff00\"> ──────────────────────────────────────────────────</span>\n",
       "</pre>\n"
      ],
      "text/plain": [
       "\u001b[92m───────────────────────────────────────────────── \u001b[0m\u001b[34mEA Initialised\u001b[0m\u001b[92m ──────────────────────────────────────────────────\u001b[0m\n"
      ]
     },
     "metadata": {},
     "output_type": "display_data"
    },
    {
     "data": {
      "text/html": [
       "<pre style=\"white-space:pre;overflow-x:auto;line-height:normal;font-family:Menlo,'DejaVu Sans Mono',consolas,'Courier New',monospace\"><span style=\"color: #00ff00; text-decoration-color: #00ff00\">───────────────────────────────────────────────── </span><span style=\"color: #000080; text-decoration-color: #000080\">EA Initialised</span><span style=\"color: #00ff00; text-decoration-color: #00ff00\"> ──────────────────────────────────────────────────</span>\n",
       "</pre>\n"
      ],
      "text/plain": [
       "\u001b[92m───────────────────────────────────────────────── \u001b[0m\u001b[34mEA Initialised\u001b[0m\u001b[92m ──────────────────────────────────────────────────\u001b[0m\n"
      ]
     },
     "metadata": {},
     "output_type": "display_data"
    },
    {
     "data": {
      "text/html": [
       "<pre style=\"white-space:pre;overflow-x:auto;line-height:normal;font-family:Menlo,'DejaVu Sans Mono',consolas,'Courier New',monospace\"><span style=\"color: #00ff00; text-decoration-color: #00ff00\">───────────────────────────────────────────────── </span><span style=\"color: #000080; text-decoration-color: #000080\">EA Initialised</span><span style=\"color: #00ff00; text-decoration-color: #00ff00\"> ──────────────────────────────────────────────────</span>\n",
       "</pre>\n"
      ],
      "text/plain": [
       "\u001b[92m───────────────────────────────────────────────── \u001b[0m\u001b[34mEA Initialised\u001b[0m\u001b[92m ──────────────────────────────────────────────────\u001b[0m\n"
      ]
     },
     "metadata": {},
     "output_type": "display_data"
    },
    {
     "name": "stdout",
     "output_type": "stream",
     "text": [
      "Run:  2\n"
     ]
    },
    {
     "data": {
      "text/html": [
       "<pre style=\"white-space:pre;overflow-x:auto;line-height:normal;font-family:Menlo,'DejaVu Sans Mono',consolas,'Courier New',monospace\"><span style=\"color: #00ff00; text-decoration-color: #00ff00\">───────────────────────────────────────────────── </span><span style=\"color: #000080; text-decoration-color: #000080\">EA Initialised</span><span style=\"color: #00ff00; text-decoration-color: #00ff00\"> ──────────────────────────────────────────────────</span>\n",
       "</pre>\n"
      ],
      "text/plain": [
       "\u001b[92m───────────────────────────────────────────────── \u001b[0m\u001b[34mEA Initialised\u001b[0m\u001b[92m ──────────────────────────────────────────────────\u001b[0m\n"
      ]
     },
     "metadata": {},
     "output_type": "display_data"
    },
    {
     "data": {
      "text/html": [
       "<pre style=\"white-space:pre;overflow-x:auto;line-height:normal;font-family:Menlo,'DejaVu Sans Mono',consolas,'Courier New',monospace\"><span style=\"color: #00ff00; text-decoration-color: #00ff00\">───────────────────────────────────────────────── </span><span style=\"color: #000080; text-decoration-color: #000080\">EA Initialised</span><span style=\"color: #00ff00; text-decoration-color: #00ff00\"> ──────────────────────────────────────────────────</span>\n",
       "</pre>\n"
      ],
      "text/plain": [
       "\u001b[92m───────────────────────────────────────────────── \u001b[0m\u001b[34mEA Initialised\u001b[0m\u001b[92m ──────────────────────────────────────────────────\u001b[0m\n"
      ]
     },
     "metadata": {},
     "output_type": "display_data"
    },
    {
     "data": {
      "text/html": [
       "<pre style=\"white-space:pre;overflow-x:auto;line-height:normal;font-family:Menlo,'DejaVu Sans Mono',consolas,'Courier New',monospace\"><span style=\"color: #00ff00; text-decoration-color: #00ff00\">───────────────────────────────────────────────── </span><span style=\"color: #000080; text-decoration-color: #000080\">EA Initialised</span><span style=\"color: #00ff00; text-decoration-color: #00ff00\"> ──────────────────────────────────────────────────</span>\n",
       "</pre>\n"
      ],
      "text/plain": [
       "\u001b[92m───────────────────────────────────────────────── \u001b[0m\u001b[34mEA Initialised\u001b[0m\u001b[92m ──────────────────────────────────────────────────\u001b[0m\n"
      ]
     },
     "metadata": {},
     "output_type": "display_data"
    },
    {
     "name": "stdout",
     "output_type": "stream",
     "text": [
      "Run:  3\n"
     ]
    },
    {
     "data": {
      "text/html": [
       "<pre style=\"white-space:pre;overflow-x:auto;line-height:normal;font-family:Menlo,'DejaVu Sans Mono',consolas,'Courier New',monospace\"><span style=\"color: #00ff00; text-decoration-color: #00ff00\">───────────────────────────────────────────────── </span><span style=\"color: #000080; text-decoration-color: #000080\">EA Initialised</span><span style=\"color: #00ff00; text-decoration-color: #00ff00\"> ──────────────────────────────────────────────────</span>\n",
       "</pre>\n"
      ],
      "text/plain": [
       "\u001b[92m───────────────────────────────────────────────── \u001b[0m\u001b[34mEA Initialised\u001b[0m\u001b[92m ──────────────────────────────────────────────────\u001b[0m\n"
      ]
     },
     "metadata": {},
     "output_type": "display_data"
    },
    {
     "data": {
      "text/html": [
       "<pre style=\"white-space:pre;overflow-x:auto;line-height:normal;font-family:Menlo,'DejaVu Sans Mono',consolas,'Courier New',monospace\"><span style=\"color: #00ff00; text-decoration-color: #00ff00\">───────────────────────────────────────────────── </span><span style=\"color: #000080; text-decoration-color: #000080\">EA Initialised</span><span style=\"color: #00ff00; text-decoration-color: #00ff00\"> ──────────────────────────────────────────────────</span>\n",
       "</pre>\n"
      ],
      "text/plain": [
       "\u001b[92m───────────────────────────────────────────────── \u001b[0m\u001b[34mEA Initialised\u001b[0m\u001b[92m ──────────────────────────────────────────────────\u001b[0m\n"
      ]
     },
     "metadata": {},
     "output_type": "display_data"
    },
    {
     "data": {
      "text/html": [
       "<pre style=\"white-space:pre;overflow-x:auto;line-height:normal;font-family:Menlo,'DejaVu Sans Mono',consolas,'Courier New',monospace\"><span style=\"color: #00ff00; text-decoration-color: #00ff00\">───────────────────────────────────────────────── </span><span style=\"color: #000080; text-decoration-color: #000080\">EA Initialised</span><span style=\"color: #00ff00; text-decoration-color: #00ff00\"> ──────────────────────────────────────────────────</span>\n",
       "</pre>\n"
      ],
      "text/plain": [
       "\u001b[92m───────────────────────────────────────────────── \u001b[0m\u001b[34mEA Initialised\u001b[0m\u001b[92m ──────────────────────────────────────────────────\u001b[0m\n"
      ]
     },
     "metadata": {},
     "output_type": "display_data"
    },
    {
     "name": "stdout",
     "output_type": "stream",
     "text": [
      "Run:  4\n"
     ]
    },
    {
     "data": {
      "text/html": [
       "<pre style=\"white-space:pre;overflow-x:auto;line-height:normal;font-family:Menlo,'DejaVu Sans Mono',consolas,'Courier New',monospace\"><span style=\"color: #00ff00; text-decoration-color: #00ff00\">───────────────────────────────────────────────── </span><span style=\"color: #000080; text-decoration-color: #000080\">EA Initialised</span><span style=\"color: #00ff00; text-decoration-color: #00ff00\"> ──────────────────────────────────────────────────</span>\n",
       "</pre>\n"
      ],
      "text/plain": [
       "\u001b[92m───────────────────────────────────────────────── \u001b[0m\u001b[34mEA Initialised\u001b[0m\u001b[92m ──────────────────────────────────────────────────\u001b[0m\n"
      ]
     },
     "metadata": {},
     "output_type": "display_data"
    },
    {
     "data": {
      "text/html": [
       "<pre style=\"white-space:pre;overflow-x:auto;line-height:normal;font-family:Menlo,'DejaVu Sans Mono',consolas,'Courier New',monospace\"><span style=\"color: #00ff00; text-decoration-color: #00ff00\">───────────────────────────────────────────────── </span><span style=\"color: #000080; text-decoration-color: #000080\">EA Initialised</span><span style=\"color: #00ff00; text-decoration-color: #00ff00\"> ──────────────────────────────────────────────────</span>\n",
       "</pre>\n"
      ],
      "text/plain": [
       "\u001b[92m───────────────────────────────────────────────── \u001b[0m\u001b[34mEA Initialised\u001b[0m\u001b[92m ──────────────────────────────────────────────────\u001b[0m\n"
      ]
     },
     "metadata": {},
     "output_type": "display_data"
    },
    {
     "data": {
      "text/html": [
       "<pre style=\"white-space:pre;overflow-x:auto;line-height:normal;font-family:Menlo,'DejaVu Sans Mono',consolas,'Courier New',monospace\"><span style=\"color: #00ff00; text-decoration-color: #00ff00\">───────────────────────────────────────────────── </span><span style=\"color: #000080; text-decoration-color: #000080\">EA Initialised</span><span style=\"color: #00ff00; text-decoration-color: #00ff00\"> ──────────────────────────────────────────────────</span>\n",
       "</pre>\n"
      ],
      "text/plain": [
       "\u001b[92m───────────────────────────────────────────────── \u001b[0m\u001b[34mEA Initialised\u001b[0m\u001b[92m ──────────────────────────────────────────────────\u001b[0m\n"
      ]
     },
     "metadata": {},
     "output_type": "display_data"
    },
    {
     "name": "stdout",
     "output_type": "stream",
     "text": [
      "Run:  5\n"
     ]
    },
    {
     "data": {
      "text/html": [
       "<pre style=\"white-space:pre;overflow-x:auto;line-height:normal;font-family:Menlo,'DejaVu Sans Mono',consolas,'Courier New',monospace\"><span style=\"color: #00ff00; text-decoration-color: #00ff00\">───────────────────────────────────────────────── </span><span style=\"color: #000080; text-decoration-color: #000080\">EA Initialised</span><span style=\"color: #00ff00; text-decoration-color: #00ff00\"> ──────────────────────────────────────────────────</span>\n",
       "</pre>\n"
      ],
      "text/plain": [
       "\u001b[92m───────────────────────────────────────────────── \u001b[0m\u001b[34mEA Initialised\u001b[0m\u001b[92m ──────────────────────────────────────────────────\u001b[0m\n"
      ]
     },
     "metadata": {},
     "output_type": "display_data"
    },
    {
     "data": {
      "text/html": [
       "<pre style=\"white-space:pre;overflow-x:auto;line-height:normal;font-family:Menlo,'DejaVu Sans Mono',consolas,'Courier New',monospace\"><span style=\"color: #00ff00; text-decoration-color: #00ff00\">───────────────────────────────────────────────── </span><span style=\"color: #000080; text-decoration-color: #000080\">EA Initialised</span><span style=\"color: #00ff00; text-decoration-color: #00ff00\"> ──────────────────────────────────────────────────</span>\n",
       "</pre>\n"
      ],
      "text/plain": [
       "\u001b[92m───────────────────────────────────────────────── \u001b[0m\u001b[34mEA Initialised\u001b[0m\u001b[92m ──────────────────────────────────────────────────\u001b[0m\n"
      ]
     },
     "metadata": {},
     "output_type": "display_data"
    },
    {
     "data": {
      "text/html": [
       "<pre style=\"white-space:pre;overflow-x:auto;line-height:normal;font-family:Menlo,'DejaVu Sans Mono',consolas,'Courier New',monospace\"><span style=\"color: #00ff00; text-decoration-color: #00ff00\">───────────────────────────────────────────────── </span><span style=\"color: #000080; text-decoration-color: #000080\">EA Initialised</span><span style=\"color: #00ff00; text-decoration-color: #00ff00\"> ──────────────────────────────────────────────────</span>\n",
       "</pre>\n"
      ],
      "text/plain": [
       "\u001b[92m───────────────────────────────────────────────── \u001b[0m\u001b[34mEA Initialised\u001b[0m\u001b[92m ──────────────────────────────────────────────────\u001b[0m\n"
      ]
     },
     "metadata": {},
     "output_type": "display_data"
    },
    {
     "name": "stdout",
     "output_type": "stream",
     "text": [
      "Run:  6\n"
     ]
    },
    {
     "data": {
      "text/html": [
       "<pre style=\"white-space:pre;overflow-x:auto;line-height:normal;font-family:Menlo,'DejaVu Sans Mono',consolas,'Courier New',monospace\"><span style=\"color: #00ff00; text-decoration-color: #00ff00\">───────────────────────────────────────────────── </span><span style=\"color: #000080; text-decoration-color: #000080\">EA Initialised</span><span style=\"color: #00ff00; text-decoration-color: #00ff00\"> ──────────────────────────────────────────────────</span>\n",
       "</pre>\n"
      ],
      "text/plain": [
       "\u001b[92m───────────────────────────────────────────────── \u001b[0m\u001b[34mEA Initialised\u001b[0m\u001b[92m ──────────────────────────────────────────────────\u001b[0m\n"
      ]
     },
     "metadata": {},
     "output_type": "display_data"
    },
    {
     "data": {
      "text/html": [
       "<pre style=\"white-space:pre;overflow-x:auto;line-height:normal;font-family:Menlo,'DejaVu Sans Mono',consolas,'Courier New',monospace\"><span style=\"color: #00ff00; text-decoration-color: #00ff00\">───────────────────────────────────────────────── </span><span style=\"color: #000080; text-decoration-color: #000080\">EA Initialised</span><span style=\"color: #00ff00; text-decoration-color: #00ff00\"> ──────────────────────────────────────────────────</span>\n",
       "</pre>\n"
      ],
      "text/plain": [
       "\u001b[92m───────────────────────────────────────────────── \u001b[0m\u001b[34mEA Initialised\u001b[0m\u001b[92m ──────────────────────────────────────────────────\u001b[0m\n"
      ]
     },
     "metadata": {},
     "output_type": "display_data"
    },
    {
     "data": {
      "text/html": [
       "<pre style=\"white-space:pre;overflow-x:auto;line-height:normal;font-family:Menlo,'DejaVu Sans Mono',consolas,'Courier New',monospace\"><span style=\"color: #00ff00; text-decoration-color: #00ff00\">───────────────────────────────────────────────── </span><span style=\"color: #000080; text-decoration-color: #000080\">EA Initialised</span><span style=\"color: #00ff00; text-decoration-color: #00ff00\"> ──────────────────────────────────────────────────</span>\n",
       "</pre>\n"
      ],
      "text/plain": [
       "\u001b[92m───────────────────────────────────────────────── \u001b[0m\u001b[34mEA Initialised\u001b[0m\u001b[92m ──────────────────────────────────────────────────\u001b[0m\n"
      ]
     },
     "metadata": {},
     "output_type": "display_data"
    },
    {
     "name": "stdout",
     "output_type": "stream",
     "text": [
      "Run:  7\n"
     ]
    },
    {
     "data": {
      "text/html": [
       "<pre style=\"white-space:pre;overflow-x:auto;line-height:normal;font-family:Menlo,'DejaVu Sans Mono',consolas,'Courier New',monospace\"><span style=\"color: #00ff00; text-decoration-color: #00ff00\">───────────────────────────────────────────────── </span><span style=\"color: #000080; text-decoration-color: #000080\">EA Initialised</span><span style=\"color: #00ff00; text-decoration-color: #00ff00\"> ──────────────────────────────────────────────────</span>\n",
       "</pre>\n"
      ],
      "text/plain": [
       "\u001b[92m───────────────────────────────────────────────── \u001b[0m\u001b[34mEA Initialised\u001b[0m\u001b[92m ──────────────────────────────────────────────────\u001b[0m\n"
      ]
     },
     "metadata": {},
     "output_type": "display_data"
    },
    {
     "data": {
      "text/html": [
       "<pre style=\"white-space:pre;overflow-x:auto;line-height:normal;font-family:Menlo,'DejaVu Sans Mono',consolas,'Courier New',monospace\"><span style=\"color: #00ff00; text-decoration-color: #00ff00\">───────────────────────────────────────────────── </span><span style=\"color: #000080; text-decoration-color: #000080\">EA Initialised</span><span style=\"color: #00ff00; text-decoration-color: #00ff00\"> ──────────────────────────────────────────────────</span>\n",
       "</pre>\n"
      ],
      "text/plain": [
       "\u001b[92m───────────────────────────────────────────────── \u001b[0m\u001b[34mEA Initialised\u001b[0m\u001b[92m ──────────────────────────────────────────────────\u001b[0m\n"
      ]
     },
     "metadata": {},
     "output_type": "display_data"
    },
    {
     "data": {
      "text/html": [
       "<pre style=\"white-space:pre;overflow-x:auto;line-height:normal;font-family:Menlo,'DejaVu Sans Mono',consolas,'Courier New',monospace\"><span style=\"color: #00ff00; text-decoration-color: #00ff00\">───────────────────────────────────────────────── </span><span style=\"color: #000080; text-decoration-color: #000080\">EA Initialised</span><span style=\"color: #00ff00; text-decoration-color: #00ff00\"> ──────────────────────────────────────────────────</span>\n",
       "</pre>\n"
      ],
      "text/plain": [
       "\u001b[92m───────────────────────────────────────────────── \u001b[0m\u001b[34mEA Initialised\u001b[0m\u001b[92m ──────────────────────────────────────────────────\u001b[0m\n"
      ]
     },
     "metadata": {},
     "output_type": "display_data"
    },
    {
     "name": "stdout",
     "output_type": "stream",
     "text": [
      "Run:  8\n"
     ]
    },
    {
     "data": {
      "text/html": [
       "<pre style=\"white-space:pre;overflow-x:auto;line-height:normal;font-family:Menlo,'DejaVu Sans Mono',consolas,'Courier New',monospace\"><span style=\"color: #00ff00; text-decoration-color: #00ff00\">───────────────────────────────────────────────── </span><span style=\"color: #000080; text-decoration-color: #000080\">EA Initialised</span><span style=\"color: #00ff00; text-decoration-color: #00ff00\"> ──────────────────────────────────────────────────</span>\n",
       "</pre>\n"
      ],
      "text/plain": [
       "\u001b[92m───────────────────────────────────────────────── \u001b[0m\u001b[34mEA Initialised\u001b[0m\u001b[92m ──────────────────────────────────────────────────\u001b[0m\n"
      ]
     },
     "metadata": {},
     "output_type": "display_data"
    },
    {
     "data": {
      "text/html": [
       "<pre style=\"white-space:pre;overflow-x:auto;line-height:normal;font-family:Menlo,'DejaVu Sans Mono',consolas,'Courier New',monospace\"><span style=\"color: #00ff00; text-decoration-color: #00ff00\">───────────────────────────────────────────────── </span><span style=\"color: #000080; text-decoration-color: #000080\">EA Initialised</span><span style=\"color: #00ff00; text-decoration-color: #00ff00\"> ──────────────────────────────────────────────────</span>\n",
       "</pre>\n"
      ],
      "text/plain": [
       "\u001b[92m───────────────────────────────────────────────── \u001b[0m\u001b[34mEA Initialised\u001b[0m\u001b[92m ──────────────────────────────────────────────────\u001b[0m\n"
      ]
     },
     "metadata": {},
     "output_type": "display_data"
    },
    {
     "data": {
      "text/html": [
       "<pre style=\"white-space:pre;overflow-x:auto;line-height:normal;font-family:Menlo,'DejaVu Sans Mono',consolas,'Courier New',monospace\"><span style=\"color: #00ff00; text-decoration-color: #00ff00\">───────────────────────────────────────────────── </span><span style=\"color: #000080; text-decoration-color: #000080\">EA Initialised</span><span style=\"color: #00ff00; text-decoration-color: #00ff00\"> ──────────────────────────────────────────────────</span>\n",
       "</pre>\n"
      ],
      "text/plain": [
       "\u001b[92m───────────────────────────────────────────────── \u001b[0m\u001b[34mEA Initialised\u001b[0m\u001b[92m ──────────────────────────────────────────────────\u001b[0m\n"
      ]
     },
     "metadata": {},
     "output_type": "display_data"
    },
    {
     "name": "stdout",
     "output_type": "stream",
     "text": [
      "Run:  9\n"
     ]
    },
    {
     "data": {
      "text/html": [
       "<pre style=\"white-space:pre;overflow-x:auto;line-height:normal;font-family:Menlo,'DejaVu Sans Mono',consolas,'Courier New',monospace\"><span style=\"color: #00ff00; text-decoration-color: #00ff00\">───────────────────────────────────────────────── </span><span style=\"color: #000080; text-decoration-color: #000080\">EA Initialised</span><span style=\"color: #00ff00; text-decoration-color: #00ff00\"> ──────────────────────────────────────────────────</span>\n",
       "</pre>\n"
      ],
      "text/plain": [
       "\u001b[92m───────────────────────────────────────────────── \u001b[0m\u001b[34mEA Initialised\u001b[0m\u001b[92m ──────────────────────────────────────────────────\u001b[0m\n"
      ]
     },
     "metadata": {},
     "output_type": "display_data"
    },
    {
     "data": {
      "text/html": [
       "<pre style=\"white-space:pre;overflow-x:auto;line-height:normal;font-family:Menlo,'DejaVu Sans Mono',consolas,'Courier New',monospace\"><span style=\"color: #00ff00; text-decoration-color: #00ff00\">───────────────────────────────────────────────── </span><span style=\"color: #000080; text-decoration-color: #000080\">EA Initialised</span><span style=\"color: #00ff00; text-decoration-color: #00ff00\"> ──────────────────────────────────────────────────</span>\n",
       "</pre>\n"
      ],
      "text/plain": [
       "\u001b[92m───────────────────────────────────────────────── \u001b[0m\u001b[34mEA Initialised\u001b[0m\u001b[92m ──────────────────────────────────────────────────\u001b[0m\n"
      ]
     },
     "metadata": {},
     "output_type": "display_data"
    },
    {
     "data": {
      "text/html": [
       "<pre style=\"white-space:pre;overflow-x:auto;line-height:normal;font-family:Menlo,'DejaVu Sans Mono',consolas,'Courier New',monospace\"><span style=\"color: #00ff00; text-decoration-color: #00ff00\">───────────────────────────────────────────────── </span><span style=\"color: #000080; text-decoration-color: #000080\">EA Initialised</span><span style=\"color: #00ff00; text-decoration-color: #00ff00\"> ──────────────────────────────────────────────────</span>\n",
       "</pre>\n"
      ],
      "text/plain": [
       "\u001b[92m───────────────────────────────────────────────── \u001b[0m\u001b[34mEA Initialised\u001b[0m\u001b[92m ──────────────────────────────────────────────────\u001b[0m\n"
      ]
     },
     "metadata": {},
     "output_type": "display_data"
    }
   ],
   "source": [
    "population_size = [100, 100, 100]  # not allowed to change\n",
    "p_crossover = [0.8, 0.8, 0.8]  # not allowed to change\n",
    "m_rate = [0.1, 0.1, 0.1]  # not allowed to change\n",
    "\n",
    "avgs_experiment_1, stds_experiment_1, all_runs_experiment_1 = run_experiment_n_queens(\n",
    "    population_size, p_crossover, m_rate\n",
    ")"
   ]
  },
  {
   "cell_type": "code",
   "execution_count": 15,
   "id": "CGBaWlNckqLt",
   "metadata": {
    "id": "CGBaWlNckqLt"
   },
   "outputs": [
    {
     "name": "stdout",
     "output_type": "stream",
     "text": [
      "Best fitness found for N = 8:  8.0\n",
      "Best fitness found for N = 16:  16.0\n",
      "Best fitness found for N = 32:  32.0\n"
     ]
    }
   ],
   "source": [
    "#check for the best fitness found for each problem\n",
    "\n",
    "f_8, f_16, f_32 = all_runs_experiment_1\n",
    "\n",
    "print(\"Best fitness found for N = 8: \", max(max(f_8)))\n",
    "print(\"Best fitness found for N = 16: \", max(max(f_16)))\n",
    "print(\"Best fitness found for N = 32: \", max(max(f_32)))"
   ]
  },
  {
   "cell_type": "code",
   "execution_count": 16,
   "id": "4c6c8833",
   "metadata": {
    "id": "4c6c8833"
   },
   "outputs": [
    {
     "data": {
      "image/png": "[encoded data removed]",
      "text/plain": [
       "<Figure size 1800x600 with 3 Axes>"
      ]
     },
     "metadata": {},
     "output_type": "display_data"
    }
   ],
   "source": [
    "labels = [\"N = 8\", \"N = 16\", \"N = 32\"]\n",
    "\n",
    "generate_subplot_function(\n",
    "    avgs_experiment_1,\n",
    "    stds_experiment_1,\n",
    "    labels,\n",
    "    avgs_experiment_2=None,\n",
    "    stds_experiment_2=None,\n",
    "    n_columns=3,\n",
    "    n_queens=[8, 16, 32],\n",
    ")"
   ]
  },
  {
   "cell_type": "markdown",
   "id": "c19d4dd3",
   "metadata": {
    "id": "c19d4dd3"
   },
   "source": [
    "### **Question 4 (0-0.4 pt):** \n",
    "* Results\n",
    "The algorithm performs noticably better than the one I created myself, reaching the highest possible number of queens even on the n=32 case on average. Furthermore, the case for n=16 converges faster\n"
   ]
  }
 ],
 "metadata": {
  "colab": {
   "provenance": []
  },
  "jupytext": {
   "formats": "ipynb,md,py:light"
  },
  "kernelspec": {
   "display_name": "Python 3 (ipykernel)",
   "language": "python",
   "name": "python3"
  },
  "language_info": {
   "codemirror_mode": {
    "name": "ipython",
    "version": 3
   },
   "file_extension": ".py",
   "mimetype": "text/x-python",
   "name": "python",
   "nbconvert_exporter": "python",
   "pygments_lexer": "ipython3",
   "version": "3.12.0"
  },
  "toc": {
   "base_numbering": 1
  }
 },
 "nbformat": 4,
 "nbformat_minor": 5
}
